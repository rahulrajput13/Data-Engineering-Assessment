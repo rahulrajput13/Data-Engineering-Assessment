{
 "cells": [
  {
   "cell_type": "markdown",
   "id": "81d3ccfb",
   "metadata": {},
   "source": [
    "# Data Engineering Assignment for Rahul Rajput"
   ]
  },
  {
   "cell_type": "markdown",
   "id": "d19cd362",
   "metadata": {},
   "source": [
    "## Loading Files"
   ]
  },
  {
   "cell_type": "code",
   "execution_count": 35,
   "id": "0548f254",
   "metadata": {},
   "outputs": [],
   "source": [
    "import pandas as pd\n",
    "import numpy as np\n",
    "import os\n",
    "import seaborn as sns\n",
    "import matplotlib.pyplot as plt\n",
    "import plotly.express as px"
   ]
  },
  {
   "cell_type": "markdown",
   "id": "cd874384",
   "metadata": {},
   "source": [
    "1. Load the Analyst Alerts File\n",
    "\n",
    "2. Load remaining files. Store the headers of each file in a separate list as well, used to compare if all files have the same headers.\n",
    "\n",
    "3. For each file check if first column has any duplicates or NA\n",
    "\n",
    "4. If not, make first column index and remove its name \n",
    "\n",
    "5. Convert event_date column to datetime\n",
    "\n",
    "6. Check for duplicates and NAs in each of the files"
   ]
  },
  {
   "cell_type": "code",
   "execution_count": 36,
   "id": "66211e31",
   "metadata": {},
   "outputs": [],
   "source": [
    "Analyst_Alerts = pd.read_csv(\"Jack Gaynor - Energy Fleet Analyst Data Test/Tesla_SEIA_analyst_alerts_data.csv\")"
   ]
  },
  {
   "cell_type": "code",
   "execution_count": 37,
   "id": "5d1d975a",
   "metadata": {},
   "outputs": [
    {
     "name": "stdout",
     "output_type": "stream",
     "text": [
      "False\n",
      "False\n"
     ]
    }
   ],
   "source": [
    "print(Analyst_Alerts.iloc[:,0].isna().any())\n",
    "print(Analyst_Alerts.iloc[:,0].duplicated().any())\n",
    "Analyst_Alerts = Analyst_Alerts.set_index(Analyst_Alerts.columns[0], inplace=False)\n",
    "Analyst_Alerts.index.name = None\n",
    "Analyst_Alerts['event_date'] = pd.to_datetime(Analyst_Alerts['event_date'])"
   ]
  },
  {
   "cell_type": "code",
   "execution_count": 38,
   "id": "77087ba5",
   "metadata": {},
   "outputs": [
    {
     "data": {
      "text/html": [
       "<div>\n",
       "<style scoped>\n",
       "    .dataframe tbody tr th:only-of-type {\n",
       "        vertical-align: middle;\n",
       "    }\n",
       "\n",
       "    .dataframe tbody tr th {\n",
       "        vertical-align: top;\n",
       "    }\n",
       "\n",
       "    .dataframe thead th {\n",
       "        text-align: right;\n",
       "    }\n",
       "</style>\n",
       "<table border=\"1\" class=\"dataframe\">\n",
       "  <thead>\n",
       "    <tr style=\"text-align: right;\">\n",
       "      <th></th>\n",
       "      <th>timestamp</th>\n",
       "      <th>SITE</th>\n",
       "      <th>ASSET</th>\n",
       "      <th>COMPONENT</th>\n",
       "      <th>alert_name</th>\n",
       "      <th>event_date</th>\n",
       "    </tr>\n",
       "  </thead>\n",
       "  <tbody>\n",
       "    <tr>\n",
       "      <th>0</th>\n",
       "      <td>1647619928967</td>\n",
       "      <td>-1844894889</td>\n",
       "      <td>1477164192</td>\n",
       "      <td>-1702932383</td>\n",
       "      <td>LM_a141_cableTempImbalance</td>\n",
       "      <td>2022-03-18</td>\n",
       "    </tr>\n",
       "    <tr>\n",
       "      <th>1</th>\n",
       "      <td>1647620105662</td>\n",
       "      <td>-1844894889</td>\n",
       "      <td>1477164192</td>\n",
       "      <td>-1702932383</td>\n",
       "      <td>LM_a141_cableTempImbalance</td>\n",
       "      <td>2022-03-18</td>\n",
       "    </tr>\n",
       "    <tr>\n",
       "      <th>2</th>\n",
       "      <td>1647259045505</td>\n",
       "      <td>-977145491</td>\n",
       "      <td>-2098644635</td>\n",
       "      <td>-226928606</td>\n",
       "      <td>LM_a141_cableTempImbalance</td>\n",
       "      <td>2022-03-14</td>\n",
       "    </tr>\n",
       "    <tr>\n",
       "      <th>3</th>\n",
       "      <td>1647193059705</td>\n",
       "      <td>-207607826</td>\n",
       "      <td>-1470107556</td>\n",
       "      <td>-837209140</td>\n",
       "      <td>LM_a141_cableTempImbalance</td>\n",
       "      <td>2022-03-13</td>\n",
       "    </tr>\n",
       "    <tr>\n",
       "      <th>4</th>\n",
       "      <td>1647193502594</td>\n",
       "      <td>-207607826</td>\n",
       "      <td>-1470107556</td>\n",
       "      <td>-837209140</td>\n",
       "      <td>LM_a141_cableTempImbalance</td>\n",
       "      <td>2022-03-13</td>\n",
       "    </tr>\n",
       "  </tbody>\n",
       "</table>\n",
       "</div>"
      ],
      "text/plain": [
       "       timestamp        SITE       ASSET   COMPONENT  \\\n",
       "0  1647619928967 -1844894889  1477164192 -1702932383   \n",
       "1  1647620105662 -1844894889  1477164192 -1702932383   \n",
       "2  1647259045505  -977145491 -2098644635  -226928606   \n",
       "3  1647193059705  -207607826 -1470107556  -837209140   \n",
       "4  1647193502594  -207607826 -1470107556  -837209140   \n",
       "\n",
       "                   alert_name event_date  \n",
       "0  LM_a141_cableTempImbalance 2022-03-18  \n",
       "1  LM_a141_cableTempImbalance 2022-03-18  \n",
       "2  LM_a141_cableTempImbalance 2022-03-14  \n",
       "3  LM_a141_cableTempImbalance 2022-03-13  \n",
       "4  LM_a141_cableTempImbalance 2022-03-13  "
      ]
     },
     "execution_count": 38,
     "metadata": {},
     "output_type": "execute_result"
    }
   ],
   "source": [
    "Analyst_Alerts.head()"
   ]
  },
  {
   "cell_type": "code",
   "execution_count": 39,
   "id": "1773d9e3",
   "metadata": {},
   "outputs": [
    {
     "data": {
      "text/plain": [
       "timestamp              int64\n",
       "SITE                   int64\n",
       "ASSET                  int64\n",
       "COMPONENT              int64\n",
       "alert_name            object\n",
       "event_date    datetime64[ns]\n",
       "dtype: object"
      ]
     },
     "execution_count": 39,
     "metadata": {},
     "output_type": "execute_result"
    }
   ],
   "source": [
    "Analyst_Alerts.dtypes"
   ]
  },
  {
   "cell_type": "code",
   "execution_count": 40,
   "id": "1d6cf267",
   "metadata": {},
   "outputs": [
    {
     "name": "stdout",
     "output_type": "stream",
     "text": [
      "CPU times: user 13.5 s, sys: 1.12 s, total: 14.6 s\n",
      "Wall time: 16.2 s\n"
     ]
    }
   ],
   "source": [
    "%%time\n",
    "folder_path = \"Jack Gaynor - Energy Fleet Analyst Data Test/\"\n",
    "files = [file for file in os.listdir(folder_path) if file not in ['.DS_Store', 'Tesla_SEIA_analyst_alerts_data.csv']]\n",
    "\n",
    "dataframes = {}\n",
    "headers = []\n",
    "\n",
    "for file in files:\n",
    "    file_path = os.path.join(folder_path, file)\n",
    "    \n",
    "    # Storing headers of each file.\n",
    "    header = pd.read_csv(file_path, nrows=0)\n",
    "    headers.append(set(header.columns))\n",
    "    \n",
    "    # Loading each file.\n",
    "    df = pd.read_csv(file_path)\n",
    "    \n",
    "    # Checking if first column has any duplicates or NAs, if not then make it index.\n",
    "    first_col_has_duplicates = df.iloc[:, 0].duplicated().any()\n",
    "    first_col_has_na = df.iloc[:, 0].isna().any()\n",
    "    \n",
    "    if not (first_col_has_duplicates or first_col_has_na):\n",
    "        df = df.set_index(df.columns[0], inplace=False)\n",
    "        df.index.name = None\n",
    "        \n",
    "        # Converting 'event_date' column to datetime format\n",
    "        df['event_date'] = pd.to_datetime(df['event_date'])\n",
    "        \n",
    "        # Checking for duplicates and NAs in each of the files\n",
    "        duplicates = df.duplicated().any()\n",
    "        NAs = df.isna().any().any()\n",
    "        \n",
    "        if duplicates or NAs:\n",
    "            if duplicates:\n",
    "                print(f\"There are duplicates in {file}\")\n",
    "                \n",
    "            if NAs:\n",
    "                print(f\"There are NAs in {file}\")\n",
    "        else:\n",
    "            # Adding DataFrame to dictionary 'dataframes'\n",
    "            dataframes[file] = df\n",
    "    else:\n",
    "        print(f\"First column of {file} contains duplicates or NAs\")\n",
    "\n",
    "# dataframes dictionary contains 32 files"
   ]
  },
  {
   "cell_type": "code",
   "execution_count": 41,
   "id": "da94cc14",
   "metadata": {},
   "outputs": [
    {
     "data": {
      "text/plain": [
       "32"
      ]
     },
     "execution_count": 41,
     "metadata": {},
     "output_type": "execute_result"
    }
   ],
   "source": [
    "len(dataframes)"
   ]
  },
  {
   "cell_type": "code",
   "execution_count": 42,
   "id": "39262e5b",
   "metadata": {},
   "outputs": [
    {
     "data": {
      "text/plain": [
       "timestamp               int64\n",
       "SITE                    int64\n",
       "ASSET                   int64\n",
       "COMPONENT               int64\n",
       "signal_name            object\n",
       "VALUE                 float64\n",
       "event_date     datetime64[ns]\n",
       "dtype: object"
      ]
     },
     "execution_count": 42,
     "metadata": {},
     "output_type": "execute_result"
    }
   ],
   "source": [
    "dataframes[\"Tesla_SEIA_analyst_signals_data_'2022-03-12'_'LM_pcbaTempDegC'.csv\"].dtypes"
   ]
  },
  {
   "cell_type": "code",
   "execution_count": 43,
   "id": "867b7567",
   "metadata": {},
   "outputs": [
    {
     "name": "stdout",
     "output_type": "stream",
     "text": [
      "All headers are the same.\n"
     ]
    }
   ],
   "source": [
    "if all(set(header) == set(headers[0]) for header in headers):\n",
    "    print(\"All headers are the same.\")\n",
    "else:\n",
    "    print(\"Headers are not the same.\")"
   ]
  },
  {
   "cell_type": "code",
   "execution_count": 44,
   "id": "fc320ab5",
   "metadata": {},
   "outputs": [
    {
     "name": "stdout",
     "output_type": "stream",
     "text": [
      "No duplicate records found across different files.\n",
      "CPU times: user 6.38 s, sys: 2.05 s, total: 8.43 s\n",
      "Wall time: 9.61 s\n"
     ]
    }
   ],
   "source": [
    "%%time\n",
    "# Checking for duplicate records across the 32 files.\n",
    "# Concatenating all DataFrames into a single DataFrame.\n",
    "combined_df = pd.concat(dataframes.values(), ignore_index=True)\n",
    "duplicate_records = combined_df[combined_df.duplicated(keep=False)]\n",
    "\n",
    "if not duplicate_records.empty:\n",
    "    print(\"There are duplicate records across different files:\")\n",
    "    print(duplicate_records)\n",
    "else:\n",
    "    print(\"No duplicate records found across different files.\")"
   ]
  },
  {
   "cell_type": "code",
   "execution_count": 32,
   "id": "e19e3e5b",
   "metadata": {},
   "outputs": [],
   "source": [
    "# temp_df = pd.DataFrame()\n",
    "# non_temp_df = pd.DataFrame()\n",
    "\n",
    "# for key, df in dataframes.items():\n",
    "#     if 'Temp' in key:\n",
    "#         temp_df = pd.concat([temp_df, df])\n",
    "#     else:\n",
    "#         non_temp_df = pd.concat([non_temp_df, df])"
   ]
  },
  {
   "cell_type": "code",
   "execution_count": 33,
   "id": "725f0945",
   "metadata": {},
   "outputs": [],
   "source": [
    "# temp_df.to_csv('Temperatures.csv')\n",
    "# non_temp_df.to_csv('Powers.csv')"
   ]
  },
  {
   "cell_type": "code",
   "execution_count": 34,
   "id": "5813c211",
   "metadata": {},
   "outputs": [
    {
     "ename": "NameError",
     "evalue": "name 'temp_df' is not defined",
     "output_type": "error",
     "traceback": [
      "\u001b[0;31m---------------------------------------------------------------------------\u001b[0m",
      "\u001b[0;31mNameError\u001b[0m                                 Traceback (most recent call last)",
      "\u001b[0;32m/var/folders/2q/t2zqpdvs08xfcswxyd3rdsn80000gn/T/ipykernel_96739/1783087351.py\u001b[0m in \u001b[0;36m<module>\u001b[0;34m\u001b[0m\n\u001b[0;32m----> 1\u001b[0;31m \u001b[0mfig\u001b[0m \u001b[0;34m=\u001b[0m \u001b[0mpx\u001b[0m\u001b[0;34m.\u001b[0m\u001b[0mbox\u001b[0m\u001b[0;34m(\u001b[0m\u001b[0mtemp_df\u001b[0m\u001b[0;34m,\u001b[0m \u001b[0my\u001b[0m\u001b[0;34m=\u001b[0m\u001b[0;34m\"VALUE\"\u001b[0m\u001b[0;34m,\u001b[0m \u001b[0mtitle\u001b[0m\u001b[0;34m=\u001b[0m\u001b[0;34m\"Boxplot of Temperatures\"\u001b[0m\u001b[0;34m,\u001b[0m \u001b[0mcolor_discrete_sequence\u001b[0m\u001b[0;34m=\u001b[0m\u001b[0;34m[\u001b[0m\u001b[0;34m\"blue\"\u001b[0m\u001b[0;34m]\u001b[0m\u001b[0;34m)\u001b[0m\u001b[0;34m\u001b[0m\u001b[0;34m\u001b[0m\u001b[0m\n\u001b[0m\u001b[1;32m      2\u001b[0m \u001b[0mfig\u001b[0m\u001b[0;34m.\u001b[0m\u001b[0mshow\u001b[0m\u001b[0;34m(\u001b[0m\u001b[0;34m)\u001b[0m\u001b[0;34m\u001b[0m\u001b[0;34m\u001b[0m\u001b[0m\n",
      "\u001b[0;31mNameError\u001b[0m: name 'temp_df' is not defined"
     ]
    }
   ],
   "source": [
    "fig = px.box(temp_df, y=\"VALUE\", title=\"Boxplot of Temperatures\", color_discrete_sequence=[\"blue\"])\n",
    "fig.show()"
   ]
  },
  {
   "cell_type": "code",
   "execution_count": null,
   "id": "99cd82bb",
   "metadata": {
    "scrolled": true
   },
   "outputs": [],
   "source": [
    "fig = px.box(non_temp_df, y=\"VALUE\", title=\"Boxplot of Power\", color_discrete_sequence=[\"blue\"])\n",
    "fig.show()"
   ]
  },
  {
   "cell_type": "markdown",
   "id": "1f5b3369",
   "metadata": {},
   "source": [
    "#### Analyst Alerts and the remaining 32 Temperature and Power files have been checked and loaded"
   ]
  },
  {
   "cell_type": "markdown",
   "id": "daf75597",
   "metadata": {},
   "source": [
    "--------------------------------------------------------------------------------------------------------"
   ]
  },
  {
   "cell_type": "markdown",
   "id": "6bf8364c",
   "metadata": {},
   "source": [
    "## Question 1 and 2 - Preparation"
   ]
  },
  {
   "cell_type": "markdown",
   "id": "feb30106",
   "metadata": {},
   "source": [
    "####  From the dataframes dictionary created at the start, we create 8 new dictionaries - one for each date of records present. Each date has 4 files: 3 related to Temperature logs and 1 related to PowerLimit logs. The new dictionaries also create shortened names for the files."
   ]
  },
  {
   "cell_type": "code",
   "execution_count": 45,
   "id": "f64a91a6",
   "metadata": {},
   "outputs": [
    {
     "name": "stdout",
     "output_type": "stream",
     "text": [
      "CPU times: user 72.6 ms, sys: 256 ms, total: 329 ms\n",
      "Wall time: 814 ms\n"
     ]
    }
   ],
   "source": [
    "%%time\n",
    "import re\n",
    "from collections import defaultdict\n",
    "\n",
    "# Extracting date from the filename\n",
    "def extract_date(file_name):\n",
    "    return re.search(r\"'(\\d{4}-\\d{2}-\\d{2})'\", file_name).group(1)\n",
    "\n",
    "# Shortening Keys\n",
    "def shorten_key(key):\n",
    "    return key.split(\"_\")[-1].split(\".\")[0].rstrip(\"'\")\n",
    "\n",
    "date_grouped_dataframes = defaultdict(dict)\n",
    "\n",
    "for file_name, table in dataframes.items():\n",
    "    date = extract_date(file_name)\n",
    "    shortened_name = shorten_key(file_name)\n",
    "    date_grouped_dataframes[date][shortened_name] = table\n",
    "\n",
    "# Creating dictionaries for each date\n",
    "dataframes_12 = date_grouped_dataframes['2022-03-12']\n",
    "dataframes_13 = date_grouped_dataframes['2022-03-13']\n",
    "dataframes_14 = date_grouped_dataframes['2022-03-14']\n",
    "dataframes_15 = date_grouped_dataframes['2022-03-15']\n",
    "dataframes_16 = date_grouped_dataframes['2022-03-16']\n",
    "dataframes_17 = date_grouped_dataframes['2022-03-17']\n",
    "dataframes_18 = date_grouped_dataframes['2022-03-18']\n",
    "dataframes_19 = date_grouped_dataframes['2022-03-19']"
   ]
  },
  {
   "cell_type": "markdown",
   "id": "837857f1",
   "metadata": {},
   "source": [
    "#### Data will be prepared in this part to answer Questions 1 and 2. The following steps were taken:\n",
    "\n",
    "For Question 1: list of components that have an average temperature above 90 degrees during any 30 second period.\n",
    "\n",
    "Each dataset will undergo a defined procedure:\n",
    "\n",
    "1. The dataset is sorted by component and timestamp.\n",
    "\n",
    "\n",
    "The following fields are then calculated by first splitting the dataframe by 'COMPONENT'. The edge cases mentioned are applicable to each COMPONENT group.\n",
    "\n",
    "\n",
    "2. A new field - Time Interval is created. It is calulated between the current record and the next by taking the difference between the current and preceeding timestamp value. The difference is then divided by 1000 to convert figure into seconds.\n",
    "(Check code - may need to change a little bit. The averages for the normal values should be calculated by taking the prev value and n-1 future values.)\n",
    "\n",
    "\n",
    "3. A new field - Window Size is created. It is calculated by summing the current time_interval value and proceeding time interval values till the sum reaches 30 or more. The window size variable allows us to calculate rolling averages of the 'VALUE' field for events which span atleast 30 seconds.\n",
    "\n",
    "\n",
    "4. A new field - Rolling Average is created. It is calculated by summing the 'VALUE' field over the next n records, where n is the window size, and dividing by n.\n",
    "\n",
    "\n",
    "5. We still have to deal with the 3 edge cases: The first row, second last row and last row. For the first row there is no time interval value and the rolling average variable is set as the 'VALUE' variable. For the second last row we calculate the rolling average over the 4th last, 3rd last, and 2nd last rows. For the last row the rolling average is calculated over the the last 3 records.\n",
    "\n",
    "\n",
    "6. We then store each record whose 'VALUE' falls within a 30 second interval where the average temperature exceeds 90.\n",
    "\n",
    "\n",
    "7. This procedure is applied to all Temperature dataframes to answer Question 1.\n",
    "\n",
    "\n",
    "This procedure is optimised through parallel processing via the Pathos library."
   ]
  },
  {
   "cell_type": "code",
   "execution_count": 46,
   "id": "24383042",
   "metadata": {
    "scrolled": true
   },
   "outputs": [
    {
     "name": "stdout",
     "output_type": "stream",
     "text": [
      "CPU times: user 26.1 ms, sys: 57.2 ms, total: 83.4 ms\n",
      "Wall time: 614 ms\n"
     ]
    }
   ],
   "source": [
    "%%time\n",
    "# PROCEDURE - calculating the 'Window_Size' and 'Rolling_Avg' fields.\n",
    "\n",
    "# 'group' represents the dataset filtered by each components. This function will be applied to each of these \n",
    "# filtered datasets seprately.\n",
    "\n",
    "def FindAbove90(group): \n",
    "    group = group.reset_index(drop=True)\n",
    "    \n",
    "    # Initialising lists to store and append the 3 new calculated fields for each component's records.\n",
    "    window_sizes = []\n",
    "    rolling_avgs = []\n",
    "    records_above_90 = [] # DataFrame storing all relevant records\n",
    "    timestamp_intervals = []\n",
    "    \n",
    "    # Looping over each row within the filtered dataset.\n",
    "    for i, row in group.iterrows():\n",
    "        # Calculating Window Sizes\n",
    "        timesum = row['time_interval'] #variable tracking the sum of time intervals\n",
    "        cnt = 0\n",
    "        j = i + 1\n",
    "\n",
    "        while timesum < 30 and j < len(group): \n",
    "            timesum += group.loc[j, 'time_interval']\n",
    "            cnt += 1\n",
    "            j += 1\n",
    "        \n",
    "        # Edge Case - First Row\n",
    "        if i == 0:  \n",
    "            window_sizes.append(0)\n",
    "            rolling_avg = row['VALUE']\n",
    "        \n",
    "        else:\n",
    "            # Edge Case - Second-last Row\n",
    "            if i == len(group) - 2:  \n",
    "                window_sizes.append(4)\n",
    "\n",
    "            # Edge Case - Last Row\n",
    "            elif i == len(group) - 1:  \n",
    "                window_sizes.append(3)\n",
    "\n",
    "            # All other cases\n",
    "            else:\n",
    "                window_sizes.append(cnt + 1)\n",
    "\n",
    "            # Calculating the Rolling Averages of the 'VALUE' field for each row.\n",
    "            \n",
    "            # Edge Case - Last Row\n",
    "            if i == len(group) - 1:\n",
    "                rolling_avg = group['VALUE'].iloc[i - 2:i + 1].mean()\n",
    "                if rolling_avg > 90:\n",
    "                    records_above_90.extend(group.iloc[i - 2:i + 1].to_dict('records'))\n",
    "\n",
    "            # Edge Case - Second-last Row\n",
    "            elif i == len(group) - 2:\n",
    "                rolling_avg = group['VALUE'].iloc[i - 2:i + 2].mean()\n",
    "                if rolling_avg > 90:\n",
    "                    records_above_90.extend(group.iloc[i - 2:i + 2].to_dict('records'))\n",
    "\n",
    "            # All other cases\n",
    "            elif i + cnt + 1 <= len(group):\n",
    "                rolling_avg = group['VALUE'].iloc[i-1:i + (cnt + 1) - 1].mean()\n",
    "                if rolling_avg > 90:\n",
    "                    records_above_90.extend(group.iloc[i-1:i + (cnt + 1) - 1].to_dict('records'))\n",
    "            else:\n",
    "                rolling_avg = np.nan\n",
    "\n",
    "        rolling_avgs.append(rolling_avg)\n",
    "\n",
    "    group['Window_Size'] = window_sizes\n",
    "    group['Rolling_Avg'] = rolling_avgs\n",
    "    return group, records_above_90\n",
    "\n",
    "from pathos.multiprocessing import ProcessingPool as Pool\n",
    "\n",
    "def process_group(group):\n",
    "    return FindAbove90(group)\n",
    "\n",
    "# Step 1: Get and store the \"records_above_90_df\" for each of the files related to temperature\n",
    "def get_records_above_90(df):\n",
    "    with Pool() as p:\n",
    "        results = p.map(process_group, [group for _, group in df.groupby('COMPONENT')])\n",
    "\n",
    "    _, records_above_90 = zip(*results)\n",
    "\n",
    "    # Flatten records_above_90 list\n",
    "    records_above_90 = [record for sublist in records_above_90 for record in sublist]\n",
    "\n",
    "    # Create a DataFrame from the records_above_90 list\n",
    "    records_above_90_df = pd.DataFrame(records_above_90)\n",
    "    \n",
    "    return records_above_90_df"
   ]
  },
  {
   "cell_type": "markdown",
   "id": "f9045160",
   "metadata": {},
   "source": [
    "## Question 1 and 2 - Answers"
   ]
  },
  {
   "cell_type": "markdown",
   "id": "6a73d2a1",
   "metadata": {},
   "source": [
    "#### For Question 1:\n",
    "\n",
    "1. For each date, we identify the files corersponding to temperature logs and identify the records where the average temperature for a component was above 90 degrees and store them in a global dataframe 'Above90_Temp'. (global implying across all dates.)\n",
    "\n",
    "\n",
    "2. We then generate a list of unique components present in the above dataframe to identify all components that had an average temperature above 90 degrees during any 30 second period."
   ]
  },
  {
   "cell_type": "code",
   "execution_count": 47,
   "id": "38cce51c",
   "metadata": {
    "scrolled": true
   },
   "outputs": [
    {
     "name": "stdout",
     "output_type": "stream",
     "text": [
      "12\n",
      "pcbaTempDegC\n"
     ]
    },
    {
     "name": "stderr",
     "output_type": "stream",
     "text": [
      "<timed exec>:17: FutureWarning: Not prepending group keys to the result index of transform-like apply. In the future, the group keys will be included in the index, regardless of whether the applied function returns a like-indexed object.\n",
      "To preserve the previous behavior, use\n",
      "\n",
      "\t>>> .groupby(..., group_keys=False)\n",
      "\n",
      "To adopt the future behavior and silence this warning, use \n",
      "\n",
      "\t>>> .groupby(..., group_keys=True)\n"
     ]
    },
    {
     "name": "stdout",
     "output_type": "stream",
     "text": [
      "12\n",
      "handleNegCoreTempDegC\n"
     ]
    },
    {
     "name": "stderr",
     "output_type": "stream",
     "text": [
      "<timed exec>:17: FutureWarning: Not prepending group keys to the result index of transform-like apply. In the future, the group keys will be included in the index, regardless of whether the applied function returns a like-indexed object.\n",
      "To preserve the previous behavior, use\n",
      "\n",
      "\t>>> .groupby(..., group_keys=False)\n",
      "\n",
      "To adopt the future behavior and silence this warning, use \n",
      "\n",
      "\t>>> .groupby(..., group_keys=True)\n"
     ]
    },
    {
     "name": "stdout",
     "output_type": "stream",
     "text": [
      "12\n",
      "handlePosCoreTempDegC\n"
     ]
    },
    {
     "name": "stderr",
     "output_type": "stream",
     "text": [
      "<timed exec>:17: FutureWarning: Not prepending group keys to the result index of transform-like apply. In the future, the group keys will be included in the index, regardless of whether the applied function returns a like-indexed object.\n",
      "To preserve the previous behavior, use\n",
      "\n",
      "\t>>> .groupby(..., group_keys=False)\n",
      "\n",
      "To adopt the future behavior and silence this warning, use \n",
      "\n",
      "\t>>> .groupby(..., group_keys=True)\n"
     ]
    },
    {
     "name": "stdout",
     "output_type": "stream",
     "text": [
      "13\n",
      "handleNegCoreTempDegC\n"
     ]
    },
    {
     "name": "stderr",
     "output_type": "stream",
     "text": [
      "<timed exec>:17: FutureWarning: Not prepending group keys to the result index of transform-like apply. In the future, the group keys will be included in the index, regardless of whether the applied function returns a like-indexed object.\n",
      "To preserve the previous behavior, use\n",
      "\n",
      "\t>>> .groupby(..., group_keys=False)\n",
      "\n",
      "To adopt the future behavior and silence this warning, use \n",
      "\n",
      "\t>>> .groupby(..., group_keys=True)\n"
     ]
    },
    {
     "name": "stdout",
     "output_type": "stream",
     "text": [
      "13\n",
      "handlePosCoreTempDegC\n"
     ]
    },
    {
     "name": "stderr",
     "output_type": "stream",
     "text": [
      "<timed exec>:17: FutureWarning: Not prepending group keys to the result index of transform-like apply. In the future, the group keys will be included in the index, regardless of whether the applied function returns a like-indexed object.\n",
      "To preserve the previous behavior, use\n",
      "\n",
      "\t>>> .groupby(..., group_keys=False)\n",
      "\n",
      "To adopt the future behavior and silence this warning, use \n",
      "\n",
      "\t>>> .groupby(..., group_keys=True)\n"
     ]
    },
    {
     "name": "stdout",
     "output_type": "stream",
     "text": [
      "13\n",
      "pcbaTempDegC\n"
     ]
    },
    {
     "name": "stderr",
     "output_type": "stream",
     "text": [
      "<timed exec>:17: FutureWarning: Not prepending group keys to the result index of transform-like apply. In the future, the group keys will be included in the index, regardless of whether the applied function returns a like-indexed object.\n",
      "To preserve the previous behavior, use\n",
      "\n",
      "\t>>> .groupby(..., group_keys=False)\n",
      "\n",
      "To adopt the future behavior and silence this warning, use \n",
      "\n",
      "\t>>> .groupby(..., group_keys=True)\n"
     ]
    },
    {
     "name": "stdout",
     "output_type": "stream",
     "text": [
      "14\n",
      "pcbaTempDegC\n"
     ]
    },
    {
     "name": "stderr",
     "output_type": "stream",
     "text": [
      "<timed exec>:17: FutureWarning: Not prepending group keys to the result index of transform-like apply. In the future, the group keys will be included in the index, regardless of whether the applied function returns a like-indexed object.\n",
      "To preserve the previous behavior, use\n",
      "\n",
      "\t>>> .groupby(..., group_keys=False)\n",
      "\n",
      "To adopt the future behavior and silence this warning, use \n",
      "\n",
      "\t>>> .groupby(..., group_keys=True)\n"
     ]
    },
    {
     "name": "stdout",
     "output_type": "stream",
     "text": [
      "14\n",
      "handlePosCoreTempDegC\n"
     ]
    },
    {
     "name": "stderr",
     "output_type": "stream",
     "text": [
      "<timed exec>:17: FutureWarning: Not prepending group keys to the result index of transform-like apply. In the future, the group keys will be included in the index, regardless of whether the applied function returns a like-indexed object.\n",
      "To preserve the previous behavior, use\n",
      "\n",
      "\t>>> .groupby(..., group_keys=False)\n",
      "\n",
      "To adopt the future behavior and silence this warning, use \n",
      "\n",
      "\t>>> .groupby(..., group_keys=True)\n"
     ]
    },
    {
     "name": "stdout",
     "output_type": "stream",
     "text": [
      "14\n",
      "handleNegCoreTempDegC\n"
     ]
    },
    {
     "name": "stderr",
     "output_type": "stream",
     "text": [
      "<timed exec>:17: FutureWarning: Not prepending group keys to the result index of transform-like apply. In the future, the group keys will be included in the index, regardless of whether the applied function returns a like-indexed object.\n",
      "To preserve the previous behavior, use\n",
      "\n",
      "\t>>> .groupby(..., group_keys=False)\n",
      "\n",
      "To adopt the future behavior and silence this warning, use \n",
      "\n",
      "\t>>> .groupby(..., group_keys=True)\n"
     ]
    },
    {
     "name": "stdout",
     "output_type": "stream",
     "text": [
      "15\n",
      "pcbaTempDegC\n"
     ]
    },
    {
     "name": "stderr",
     "output_type": "stream",
     "text": [
      "<timed exec>:17: FutureWarning: Not prepending group keys to the result index of transform-like apply. In the future, the group keys will be included in the index, regardless of whether the applied function returns a like-indexed object.\n",
      "To preserve the previous behavior, use\n",
      "\n",
      "\t>>> .groupby(..., group_keys=False)\n",
      "\n",
      "To adopt the future behavior and silence this warning, use \n",
      "\n",
      "\t>>> .groupby(..., group_keys=True)\n"
     ]
    },
    {
     "name": "stdout",
     "output_type": "stream",
     "text": [
      "15\n",
      "handlePosCoreTempDegC\n"
     ]
    },
    {
     "name": "stderr",
     "output_type": "stream",
     "text": [
      "<timed exec>:17: FutureWarning: Not prepending group keys to the result index of transform-like apply. In the future, the group keys will be included in the index, regardless of whether the applied function returns a like-indexed object.\n",
      "To preserve the previous behavior, use\n",
      "\n",
      "\t>>> .groupby(..., group_keys=False)\n",
      "\n",
      "To adopt the future behavior and silence this warning, use \n",
      "\n",
      "\t>>> .groupby(..., group_keys=True)\n"
     ]
    },
    {
     "name": "stdout",
     "output_type": "stream",
     "text": [
      "15\n",
      "handleNegCoreTempDegC\n"
     ]
    },
    {
     "name": "stderr",
     "output_type": "stream",
     "text": [
      "<timed exec>:17: FutureWarning: Not prepending group keys to the result index of transform-like apply. In the future, the group keys will be included in the index, regardless of whether the applied function returns a like-indexed object.\n",
      "To preserve the previous behavior, use\n",
      "\n",
      "\t>>> .groupby(..., group_keys=False)\n",
      "\n",
      "To adopt the future behavior and silence this warning, use \n",
      "\n",
      "\t>>> .groupby(..., group_keys=True)\n"
     ]
    },
    {
     "name": "stdout",
     "output_type": "stream",
     "text": [
      "16\n",
      "handleNegCoreTempDegC\n"
     ]
    },
    {
     "name": "stderr",
     "output_type": "stream",
     "text": [
      "<timed exec>:17: FutureWarning: Not prepending group keys to the result index of transform-like apply. In the future, the group keys will be included in the index, regardless of whether the applied function returns a like-indexed object.\n",
      "To preserve the previous behavior, use\n",
      "\n",
      "\t>>> .groupby(..., group_keys=False)\n",
      "\n",
      "To adopt the future behavior and silence this warning, use \n",
      "\n",
      "\t>>> .groupby(..., group_keys=True)\n"
     ]
    },
    {
     "name": "stdout",
     "output_type": "stream",
     "text": [
      "16\n",
      "pcbaTempDegC\n"
     ]
    },
    {
     "name": "stderr",
     "output_type": "stream",
     "text": [
      "<timed exec>:17: FutureWarning: Not prepending group keys to the result index of transform-like apply. In the future, the group keys will be included in the index, regardless of whether the applied function returns a like-indexed object.\n",
      "To preserve the previous behavior, use\n",
      "\n",
      "\t>>> .groupby(..., group_keys=False)\n",
      "\n",
      "To adopt the future behavior and silence this warning, use \n",
      "\n",
      "\t>>> .groupby(..., group_keys=True)\n"
     ]
    },
    {
     "name": "stdout",
     "output_type": "stream",
     "text": [
      "16\n",
      "handlePosCoreTempDegC\n"
     ]
    },
    {
     "name": "stderr",
     "output_type": "stream",
     "text": [
      "<timed exec>:17: FutureWarning: Not prepending group keys to the result index of transform-like apply. In the future, the group keys will be included in the index, regardless of whether the applied function returns a like-indexed object.\n",
      "To preserve the previous behavior, use\n",
      "\n",
      "\t>>> .groupby(..., group_keys=False)\n",
      "\n",
      "To adopt the future behavior and silence this warning, use \n",
      "\n",
      "\t>>> .groupby(..., group_keys=True)\n"
     ]
    },
    {
     "name": "stdout",
     "output_type": "stream",
     "text": [
      "17\n",
      "pcbaTempDegC\n"
     ]
    },
    {
     "name": "stderr",
     "output_type": "stream",
     "text": [
      "<timed exec>:17: FutureWarning: Not prepending group keys to the result index of transform-like apply. In the future, the group keys will be included in the index, regardless of whether the applied function returns a like-indexed object.\n",
      "To preserve the previous behavior, use\n",
      "\n",
      "\t>>> .groupby(..., group_keys=False)\n",
      "\n",
      "To adopt the future behavior and silence this warning, use \n",
      "\n",
      "\t>>> .groupby(..., group_keys=True)\n"
     ]
    },
    {
     "name": "stdout",
     "output_type": "stream",
     "text": [
      "17\n",
      "handleNegCoreTempDegC\n"
     ]
    },
    {
     "name": "stderr",
     "output_type": "stream",
     "text": [
      "<timed exec>:17: FutureWarning: Not prepending group keys to the result index of transform-like apply. In the future, the group keys will be included in the index, regardless of whether the applied function returns a like-indexed object.\n",
      "To preserve the previous behavior, use\n",
      "\n",
      "\t>>> .groupby(..., group_keys=False)\n",
      "\n",
      "To adopt the future behavior and silence this warning, use \n",
      "\n",
      "\t>>> .groupby(..., group_keys=True)\n"
     ]
    },
    {
     "name": "stdout",
     "output_type": "stream",
     "text": [
      "17\n",
      "handlePosCoreTempDegC\n"
     ]
    },
    {
     "name": "stderr",
     "output_type": "stream",
     "text": [
      "<timed exec>:17: FutureWarning: Not prepending group keys to the result index of transform-like apply. In the future, the group keys will be included in the index, regardless of whether the applied function returns a like-indexed object.\n",
      "To preserve the previous behavior, use\n",
      "\n",
      "\t>>> .groupby(..., group_keys=False)\n",
      "\n",
      "To adopt the future behavior and silence this warning, use \n",
      "\n",
      "\t>>> .groupby(..., group_keys=True)\n"
     ]
    },
    {
     "name": "stdout",
     "output_type": "stream",
     "text": [
      "18\n",
      "pcbaTempDegC\n"
     ]
    },
    {
     "name": "stderr",
     "output_type": "stream",
     "text": [
      "<timed exec>:17: FutureWarning: Not prepending group keys to the result index of transform-like apply. In the future, the group keys will be included in the index, regardless of whether the applied function returns a like-indexed object.\n",
      "To preserve the previous behavior, use\n",
      "\n",
      "\t>>> .groupby(..., group_keys=False)\n",
      "\n",
      "To adopt the future behavior and silence this warning, use \n",
      "\n",
      "\t>>> .groupby(..., group_keys=True)\n"
     ]
    },
    {
     "name": "stdout",
     "output_type": "stream",
     "text": [
      "18\n",
      "handleNegCoreTempDegC\n"
     ]
    },
    {
     "name": "stderr",
     "output_type": "stream",
     "text": [
      "<timed exec>:17: FutureWarning: Not prepending group keys to the result index of transform-like apply. In the future, the group keys will be included in the index, regardless of whether the applied function returns a like-indexed object.\n",
      "To preserve the previous behavior, use\n",
      "\n",
      "\t>>> .groupby(..., group_keys=False)\n",
      "\n",
      "To adopt the future behavior and silence this warning, use \n",
      "\n",
      "\t>>> .groupby(..., group_keys=True)\n"
     ]
    },
    {
     "name": "stdout",
     "output_type": "stream",
     "text": [
      "18\n",
      "handlePosCoreTempDegC\n"
     ]
    },
    {
     "name": "stderr",
     "output_type": "stream",
     "text": [
      "<timed exec>:17: FutureWarning: Not prepending group keys to the result index of transform-like apply. In the future, the group keys will be included in the index, regardless of whether the applied function returns a like-indexed object.\n",
      "To preserve the previous behavior, use\n",
      "\n",
      "\t>>> .groupby(..., group_keys=False)\n",
      "\n",
      "To adopt the future behavior and silence this warning, use \n",
      "\n",
      "\t>>> .groupby(..., group_keys=True)\n"
     ]
    },
    {
     "name": "stdout",
     "output_type": "stream",
     "text": [
      "19\n",
      "pcbaTempDegC\n"
     ]
    },
    {
     "name": "stderr",
     "output_type": "stream",
     "text": [
      "<timed exec>:17: FutureWarning: Not prepending group keys to the result index of transform-like apply. In the future, the group keys will be included in the index, regardless of whether the applied function returns a like-indexed object.\n",
      "To preserve the previous behavior, use\n",
      "\n",
      "\t>>> .groupby(..., group_keys=False)\n",
      "\n",
      "To adopt the future behavior and silence this warning, use \n",
      "\n",
      "\t>>> .groupby(..., group_keys=True)\n"
     ]
    },
    {
     "name": "stdout",
     "output_type": "stream",
     "text": [
      "19\n",
      "handleNegCoreTempDegC\n"
     ]
    },
    {
     "name": "stderr",
     "output_type": "stream",
     "text": [
      "<timed exec>:17: FutureWarning: Not prepending group keys to the result index of transform-like apply. In the future, the group keys will be included in the index, regardless of whether the applied function returns a like-indexed object.\n",
      "To preserve the previous behavior, use\n",
      "\n",
      "\t>>> .groupby(..., group_keys=False)\n",
      "\n",
      "To adopt the future behavior and silence this warning, use \n",
      "\n",
      "\t>>> .groupby(..., group_keys=True)\n"
     ]
    },
    {
     "name": "stdout",
     "output_type": "stream",
     "text": [
      "19\n",
      "handlePosCoreTempDegC\n"
     ]
    },
    {
     "name": "stderr",
     "output_type": "stream",
     "text": [
      "<timed exec>:17: FutureWarning: Not prepending group keys to the result index of transform-like apply. In the future, the group keys will be included in the index, regardless of whether the applied function returns a like-indexed object.\n",
      "To preserve the previous behavior, use\n",
      "\n",
      "\t>>> .groupby(..., group_keys=False)\n",
      "\n",
      "To adopt the future behavior and silence this warning, use \n",
      "\n",
      "\t>>> .groupby(..., group_keys=True)\n"
     ]
    },
    {
     "ename": "NameError",
     "evalue": "name 'concatenated_TimeStamps' is not defined",
     "output_type": "error",
     "traceback": [
      "\u001b[0;31m---------------------------------------------------------------------------\u001b[0m",
      "\u001b[0;31mNameError\u001b[0m                                 Traceback (most recent call last)",
      "\u001b[0;32m<timed exec>\u001b[0m in \u001b[0;36m<module>\u001b[0;34m\u001b[0m\n",
      "\u001b[0;31mNameError\u001b[0m: name 'concatenated_TimeStamps' is not defined"
     ]
    }
   ],
   "source": [
    "%%time\n",
    "\n",
    "## QUESTION 1\n",
    "\n",
    "def timeinterval(row):\n",
    "    row['time_interval'] = row['timestamp'].diff()/1000\n",
    "    return row\n",
    "\n",
    "concatenated_Above90 = pd.DataFrame()\n",
    "\n",
    "cnt = 12\n",
    "for date_dict in [dataframes_12, dataframes_13, dataframes_14, dataframes_15, dataframes_16, dataframes_17, dataframes_18, dataframes_19]:\n",
    "    updated_dict = {}\n",
    "    for key, df in date_dict.copy().items():\n",
    "        if \"Temp\" in key:\n",
    "            print(cnt)\n",
    "            print(key)\n",
    "\n",
    "            updated_dict[key] = df.groupby('COMPONENT').apply(timeinterval).reset_index(drop=True)\n",
    "            concatenated_Above90 = pd.concat([concatenated_Above90, get_records_above_90(updated_dict[key])])\n",
    "    \n",
    "    cnt += 1\n",
    "    \n",
    "TimeStamps_df = pd.DataFrame(concatenated_TimeStamps, columns=['start_timestamp', 'end_timestamp'])"
   ]
  },
  {
   "cell_type": "code",
   "execution_count": 48,
   "id": "8eaddfbb",
   "metadata": {
    "scrolled": false
   },
   "outputs": [
    {
     "data": {
      "text/html": [
       "<div>\n",
       "<style scoped>\n",
       "    .dataframe tbody tr th:only-of-type {\n",
       "        vertical-align: middle;\n",
       "    }\n",
       "\n",
       "    .dataframe tbody tr th {\n",
       "        vertical-align: top;\n",
       "    }\n",
       "\n",
       "    .dataframe thead th {\n",
       "        text-align: right;\n",
       "    }\n",
       "</style>\n",
       "<table border=\"1\" class=\"dataframe\">\n",
       "  <thead>\n",
       "    <tr style=\"text-align: right;\">\n",
       "      <th></th>\n",
       "      <th>timestamp</th>\n",
       "      <th>SITE</th>\n",
       "      <th>ASSET</th>\n",
       "      <th>COMPONENT</th>\n",
       "      <th>signal_name</th>\n",
       "      <th>VALUE</th>\n",
       "      <th>event_date</th>\n",
       "      <th>time_interval</th>\n",
       "    </tr>\n",
       "  </thead>\n",
       "  <tbody>\n",
       "    <tr>\n",
       "      <th>0</th>\n",
       "      <td>1647125933652</td>\n",
       "      <td>-1492083459</td>\n",
       "      <td>1996369523</td>\n",
       "      <td>-1139065776</td>\n",
       "      <td>LM_handleNegCoreTempDegC</td>\n",
       "      <td>89.253668</td>\n",
       "      <td>2022-03-12</td>\n",
       "      <td>10.009</td>\n",
       "    </tr>\n",
       "    <tr>\n",
       "      <th>1</th>\n",
       "      <td>1647125943652</td>\n",
       "      <td>-1492083459</td>\n",
       "      <td>1996369523</td>\n",
       "      <td>-1139065776</td>\n",
       "      <td>LM_handleNegCoreTempDegC</td>\n",
       "      <td>90.556335</td>\n",
       "      <td>2022-03-12</td>\n",
       "      <td>10.000</td>\n",
       "    </tr>\n",
       "    <tr>\n",
       "      <th>2</th>\n",
       "      <td>1647125954655</td>\n",
       "      <td>-1492083459</td>\n",
       "      <td>1996369523</td>\n",
       "      <td>-1139065776</td>\n",
       "      <td>LM_handleNegCoreTempDegC</td>\n",
       "      <td>91.434213</td>\n",
       "      <td>2022-03-12</td>\n",
       "      <td>11.003</td>\n",
       "    </tr>\n",
       "    <tr>\n",
       "      <th>3</th>\n",
       "      <td>1647125943652</td>\n",
       "      <td>-1492083459</td>\n",
       "      <td>1996369523</td>\n",
       "      <td>-1139065776</td>\n",
       "      <td>LM_handleNegCoreTempDegC</td>\n",
       "      <td>90.556335</td>\n",
       "      <td>2022-03-12</td>\n",
       "      <td>10.000</td>\n",
       "    </tr>\n",
       "    <tr>\n",
       "      <th>4</th>\n",
       "      <td>1647125954655</td>\n",
       "      <td>-1492083459</td>\n",
       "      <td>1996369523</td>\n",
       "      <td>-1139065776</td>\n",
       "      <td>LM_handleNegCoreTempDegC</td>\n",
       "      <td>91.434213</td>\n",
       "      <td>2022-03-12</td>\n",
       "      <td>11.003</td>\n",
       "    </tr>\n",
       "    <tr>\n",
       "      <th>...</th>\n",
       "      <td>...</td>\n",
       "      <td>...</td>\n",
       "      <td>...</td>\n",
       "      <td>...</td>\n",
       "      <td>...</td>\n",
       "      <td>...</td>\n",
       "      <td>...</td>\n",
       "      <td>...</td>\n",
       "    </tr>\n",
       "    <tr>\n",
       "      <th>799</th>\n",
       "      <td>1647715486304</td>\n",
       "      <td>-977145491</td>\n",
       "      <td>-2098644635</td>\n",
       "      <td>2043382078</td>\n",
       "      <td>LM_handlePosCoreTempDegC</td>\n",
       "      <td>89.829678</td>\n",
       "      <td>2022-03-19</td>\n",
       "      <td>9.999</td>\n",
       "    </tr>\n",
       "    <tr>\n",
       "      <th>800</th>\n",
       "      <td>1647715496312</td>\n",
       "      <td>-977145491</td>\n",
       "      <td>-2098644635</td>\n",
       "      <td>2043382078</td>\n",
       "      <td>LM_handlePosCoreTempDegC</td>\n",
       "      <td>90.059046</td>\n",
       "      <td>2022-03-19</td>\n",
       "      <td>10.008</td>\n",
       "    </tr>\n",
       "    <tr>\n",
       "      <th>801</th>\n",
       "      <td>1647715486304</td>\n",
       "      <td>-977145491</td>\n",
       "      <td>-2098644635</td>\n",
       "      <td>2043382078</td>\n",
       "      <td>LM_handlePosCoreTempDegC</td>\n",
       "      <td>89.829678</td>\n",
       "      <td>2022-03-19</td>\n",
       "      <td>9.999</td>\n",
       "    </tr>\n",
       "    <tr>\n",
       "      <th>802</th>\n",
       "      <td>1647715496312</td>\n",
       "      <td>-977145491</td>\n",
       "      <td>-2098644635</td>\n",
       "      <td>2043382078</td>\n",
       "      <td>LM_handlePosCoreTempDegC</td>\n",
       "      <td>90.059046</td>\n",
       "      <td>2022-03-19</td>\n",
       "      <td>10.008</td>\n",
       "    </tr>\n",
       "    <tr>\n",
       "      <th>803</th>\n",
       "      <td>1647715506312</td>\n",
       "      <td>-977145491</td>\n",
       "      <td>-2098644635</td>\n",
       "      <td>2043382078</td>\n",
       "      <td>LM_handlePosCoreTempDegC</td>\n",
       "      <td>90.141172</td>\n",
       "      <td>2022-03-19</td>\n",
       "      <td>10.000</td>\n",
       "    </tr>\n",
       "  </tbody>\n",
       "</table>\n",
       "<p>6096 rows × 8 columns</p>\n",
       "</div>"
      ],
      "text/plain": [
       "         timestamp        SITE       ASSET   COMPONENT  \\\n",
       "0    1647125933652 -1492083459  1996369523 -1139065776   \n",
       "1    1647125943652 -1492083459  1996369523 -1139065776   \n",
       "2    1647125954655 -1492083459  1996369523 -1139065776   \n",
       "3    1647125943652 -1492083459  1996369523 -1139065776   \n",
       "4    1647125954655 -1492083459  1996369523 -1139065776   \n",
       "..             ...         ...         ...         ...   \n",
       "799  1647715486304  -977145491 -2098644635  2043382078   \n",
       "800  1647715496312  -977145491 -2098644635  2043382078   \n",
       "801  1647715486304  -977145491 -2098644635  2043382078   \n",
       "802  1647715496312  -977145491 -2098644635  2043382078   \n",
       "803  1647715506312  -977145491 -2098644635  2043382078   \n",
       "\n",
       "                  signal_name      VALUE event_date  time_interval  \n",
       "0    LM_handleNegCoreTempDegC  89.253668 2022-03-12         10.009  \n",
       "1    LM_handleNegCoreTempDegC  90.556335 2022-03-12         10.000  \n",
       "2    LM_handleNegCoreTempDegC  91.434213 2022-03-12         11.003  \n",
       "3    LM_handleNegCoreTempDegC  90.556335 2022-03-12         10.000  \n",
       "4    LM_handleNegCoreTempDegC  91.434213 2022-03-12         11.003  \n",
       "..                        ...        ...        ...            ...  \n",
       "799  LM_handlePosCoreTempDegC  89.829678 2022-03-19          9.999  \n",
       "800  LM_handlePosCoreTempDegC  90.059046 2022-03-19         10.008  \n",
       "801  LM_handlePosCoreTempDegC  89.829678 2022-03-19          9.999  \n",
       "802  LM_handlePosCoreTempDegC  90.059046 2022-03-19         10.008  \n",
       "803  LM_handlePosCoreTempDegC  90.141172 2022-03-19         10.000  \n",
       "\n",
       "[6096 rows x 8 columns]"
      ]
     },
     "execution_count": 48,
     "metadata": {},
     "output_type": "execute_result"
    }
   ],
   "source": [
    "concatenated_Above90"
   ]
  },
  {
   "cell_type": "code",
   "execution_count": 49,
   "id": "95b9381b",
   "metadata": {},
   "outputs": [],
   "source": [
    "#concatenated_Above90.to_csv('TempAbove90.csv')"
   ]
  },
  {
   "cell_type": "code",
   "execution_count": 50,
   "id": "12a951a9",
   "metadata": {
    "scrolled": true
   },
   "outputs": [
    {
     "name": "stdout",
     "output_type": "stream",
     "text": [
      "     Component  Frequency\n",
      "0    399812473        601\n",
      "1   1348730178        567\n",
      "2  -1473041981        546\n",
      "3  -1996083301        530\n",
      "4    851777939        480\n",
      "5   1036677714        463\n",
      "6    420204713        317\n",
      "7  -1139065776        291\n",
      "8   1212935405        234\n",
      "9  -1107987050        216\n",
      "10 -2048121660        189\n",
      "11   369714770        182\n",
      "12 -1644468160        178\n",
      "13  -784889276        159\n",
      "14 -1745692884        148\n",
      "15  1395314372        122\n",
      "16  1220791812        115\n",
      "17  1130578083        109\n",
      "18  1060928447        103\n",
      "19   672028928         91\n",
      "20  1261478727         90\n",
      "21 -1822444058         74\n",
      "22 -1747047773         66\n",
      "23 -1345639539         60\n",
      "24 -1112487124         38\n",
      "25 -1702932383         28\n",
      "26  -824155902         23\n",
      "27  1411109599         21\n",
      "28 -2126979618         18\n",
      "29  2043382078         18\n",
      "30  1449025406         13\n",
      "31 -1489919606          6\n"
     ]
    }
   ],
   "source": [
    "component_counts = concatenated_Above90['COMPONENT'].value_counts()\n",
    "component_freq_table = pd.DataFrame(component_counts).reset_index()\n",
    "component_freq_table.columns = ['Component', 'Frequency']\n",
    "output = component_freq_table.sort_values(by='Frequency', ascending=False)\n",
    "print(output)"
   ]
  },
  {
   "cell_type": "markdown",
   "id": "0a6c5a5a",
   "metadata": {},
   "source": [
    "#### For Question 2:\n",
    "\n",
    "We use the global dataframe 'Above90' generated in Question 1, with all records where the average temperature of a component exceeded 90 degrees during any 30 second period, to identify corresponding Power Limit Records.\n",
    "\n",
    "\n",
    "1. For each date we load the Power Limit dataframe and filter the 'Above90_Temp' dataframe by 'event_date' and then match records from both dataframes.\n",
    "\n",
    "\n",
    "2. The matching is done on 'timestamp', 'SITE', 'ASSET', and 'COMPONENT' fields. Matching records from each Power Limit file are stored in a global dataframe 'Above90_Power'. The number of records for Temperature files and Power file are different, therefore to allow for the Power records being logged at slightly different timestamps, the matching for timestamp would be done with a margin of 2 seconds from the record where the avg temp was > 90.\n",
    "\n",
    "\n",
    "3. We then find the Maximum value of 'VALUE' field for each component in the 'Aboive90_Power' dataframe "
   ]
  },
  {
   "cell_type": "code",
   "execution_count": 51,
   "id": "bc817927",
   "metadata": {
    "scrolled": true
   },
   "outputs": [
    {
     "name": "stdout",
     "output_type": "stream",
     "text": [
      "12\n",
      "13\n",
      "14\n",
      "15\n",
      "16\n",
      "17\n",
      "18\n",
      "19\n"
     ]
    }
   ],
   "source": [
    "## QUESTION 2\n",
    "\n",
    "dates = ['2022-03-12', '2022-03-13', '2022-03-14', '2022-03-15', '2022-03-16', '2022-03-17', '2022-03-18', '2022-03-19']\n",
    "powerlimit_above90 = []\n",
    "cnt = 12\n",
    "for date_dict, date in zip([dataframes_12, dataframes_13, dataframes_14, dataframes_15, dataframes_16, dataframes_17, dataframes_18, dataframes_19],dates):\n",
    "    print(cnt)\n",
    "    # Creating filtered dataframes\n",
    "    power_limit_df = date_dict['powerLimit']\n",
    "    unique_components = concatenated_Above90['COMPONENT'].unique()\n",
    "    power_limit_df = power_limit_df[power_limit_df['COMPONENT'].isin(unique_components)]\n",
    "    filtered_concatenated_Above90 = concatenated_Above90[concatenated_Above90['event_date']==date]\n",
    "    #print(filtered_concatenated_Above90.head(5))\n",
    "    \n",
    "    # Identifying records in the Power Limit files corresponding to records where the Average temp > 90 \n",
    "    # for atleast 30 seconds\n",
    "    for _, record in filtered_concatenated_Above90.iterrows():\n",
    "        matching_power_limit_record = power_limit_df.loc[(power_limit_df['timestamp'].between(record['timestamp']-2000, record['timestamp']+2000)) & \n",
    "                                                          (power_limit_df['SITE'] == record['SITE']) &\n",
    "                                                          (power_limit_df['ASSET'] == record['ASSET']) &\n",
    "                                                          (power_limit_df['COMPONENT'] == record['COMPONENT'])]\n",
    "        if not matching_power_limit_record.empty:\n",
    "            powerlimit_above90.append(matching_power_limit_record.iloc[0])\n",
    "    cnt = cnt + 1\n",
    "powerlimit_above90_df = pd.DataFrame(powerlimit_above90)"
   ]
  },
  {
   "cell_type": "code",
   "execution_count": 52,
   "id": "eb04e6e8",
   "metadata": {},
   "outputs": [],
   "source": [
    "#powerlimit_above90_df.to_csv('PowerAbove90.csv')"
   ]
  },
  {
   "cell_type": "code",
   "execution_count": 53,
   "id": "195d29ed",
   "metadata": {
    "scrolled": true
   },
   "outputs": [
    {
     "data": {
      "text/html": [
       "<div>\n",
       "<style scoped>\n",
       "    .dataframe tbody tr th:only-of-type {\n",
       "        vertical-align: middle;\n",
       "    }\n",
       "\n",
       "    .dataframe tbody tr th {\n",
       "        vertical-align: top;\n",
       "    }\n",
       "\n",
       "    .dataframe thead th {\n",
       "        text-align: right;\n",
       "    }\n",
       "</style>\n",
       "<table border=\"1\" class=\"dataframe\">\n",
       "  <thead>\n",
       "    <tr style=\"text-align: right;\">\n",
       "      <th></th>\n",
       "      <th>timestamp</th>\n",
       "      <th>SITE</th>\n",
       "      <th>ASSET</th>\n",
       "      <th>COMPONENT</th>\n",
       "      <th>signal_name</th>\n",
       "      <th>VALUE</th>\n",
       "      <th>event_date</th>\n",
       "    </tr>\n",
       "  </thead>\n",
       "  <tbody>\n",
       "    <tr>\n",
       "      <th>247419</th>\n",
       "      <td>1647125933642</td>\n",
       "      <td>-1492083459</td>\n",
       "      <td>1996369523</td>\n",
       "      <td>-1139065776</td>\n",
       "      <td>LM_powerLimit</td>\n",
       "      <td>290.118909</td>\n",
       "      <td>2022-03-12</td>\n",
       "    </tr>\n",
       "    <tr>\n",
       "      <th>247427</th>\n",
       "      <td>1647125944649</td>\n",
       "      <td>-1492083459</td>\n",
       "      <td>1996369523</td>\n",
       "      <td>-1139065776</td>\n",
       "      <td>LM_powerLimit</td>\n",
       "      <td>286.958752</td>\n",
       "      <td>2022-03-12</td>\n",
       "    </tr>\n",
       "    <tr>\n",
       "      <th>247432</th>\n",
       "      <td>1647125955652</td>\n",
       "      <td>-1492083459</td>\n",
       "      <td>1996369523</td>\n",
       "      <td>-1139065776</td>\n",
       "      <td>LM_powerLimit</td>\n",
       "      <td>281.348288</td>\n",
       "      <td>2022-03-12</td>\n",
       "    </tr>\n",
       "    <tr>\n",
       "      <th>247427</th>\n",
       "      <td>1647125944649</td>\n",
       "      <td>-1492083459</td>\n",
       "      <td>1996369523</td>\n",
       "      <td>-1139065776</td>\n",
       "      <td>LM_powerLimit</td>\n",
       "      <td>286.958752</td>\n",
       "      <td>2022-03-12</td>\n",
       "    </tr>\n",
       "    <tr>\n",
       "      <th>247432</th>\n",
       "      <td>1647125955652</td>\n",
       "      <td>-1492083459</td>\n",
       "      <td>1996369523</td>\n",
       "      <td>-1139065776</td>\n",
       "      <td>LM_powerLimit</td>\n",
       "      <td>281.348288</td>\n",
       "      <td>2022-03-12</td>\n",
       "    </tr>\n",
       "    <tr>\n",
       "      <th>...</th>\n",
       "      <td>...</td>\n",
       "      <td>...</td>\n",
       "      <td>...</td>\n",
       "      <td>...</td>\n",
       "      <td>...</td>\n",
       "      <td>...</td>\n",
       "      <td>...</td>\n",
       "    </tr>\n",
       "    <tr>\n",
       "      <th>299183</th>\n",
       "      <td>1647715486295</td>\n",
       "      <td>-977145491</td>\n",
       "      <td>-2098644635</td>\n",
       "      <td>2043382078</td>\n",
       "      <td>LM_powerLimit</td>\n",
       "      <td>229.033051</td>\n",
       "      <td>2022-03-19</td>\n",
       "    </tr>\n",
       "    <tr>\n",
       "      <th>299187</th>\n",
       "      <td>1647715496312</td>\n",
       "      <td>-977145491</td>\n",
       "      <td>-2098644635</td>\n",
       "      <td>2043382078</td>\n",
       "      <td>LM_powerLimit</td>\n",
       "      <td>226.068743</td>\n",
       "      <td>2022-03-19</td>\n",
       "    </tr>\n",
       "    <tr>\n",
       "      <th>299183</th>\n",
       "      <td>1647715486295</td>\n",
       "      <td>-977145491</td>\n",
       "      <td>-2098644635</td>\n",
       "      <td>2043382078</td>\n",
       "      <td>LM_powerLimit</td>\n",
       "      <td>229.033051</td>\n",
       "      <td>2022-03-19</td>\n",
       "    </tr>\n",
       "    <tr>\n",
       "      <th>299187</th>\n",
       "      <td>1647715496312</td>\n",
       "      <td>-977145491</td>\n",
       "      <td>-2098644635</td>\n",
       "      <td>2043382078</td>\n",
       "      <td>LM_powerLimit</td>\n",
       "      <td>226.068743</td>\n",
       "      <td>2022-03-19</td>\n",
       "    </tr>\n",
       "    <tr>\n",
       "      <th>299192</th>\n",
       "      <td>1647715507304</td>\n",
       "      <td>-977145491</td>\n",
       "      <td>-2098644635</td>\n",
       "      <td>2043382078</td>\n",
       "      <td>LM_powerLimit</td>\n",
       "      <td>222.390971</td>\n",
       "      <td>2022-03-19</td>\n",
       "    </tr>\n",
       "  </tbody>\n",
       "</table>\n",
       "<p>4964 rows × 7 columns</p>\n",
       "</div>"
      ],
      "text/plain": [
       "            timestamp        SITE       ASSET   COMPONENT    signal_name  \\\n",
       "247419  1647125933642 -1492083459  1996369523 -1139065776  LM_powerLimit   \n",
       "247427  1647125944649 -1492083459  1996369523 -1139065776  LM_powerLimit   \n",
       "247432  1647125955652 -1492083459  1996369523 -1139065776  LM_powerLimit   \n",
       "247427  1647125944649 -1492083459  1996369523 -1139065776  LM_powerLimit   \n",
       "247432  1647125955652 -1492083459  1996369523 -1139065776  LM_powerLimit   \n",
       "...               ...         ...         ...         ...            ...   \n",
       "299183  1647715486295  -977145491 -2098644635  2043382078  LM_powerLimit   \n",
       "299187  1647715496312  -977145491 -2098644635  2043382078  LM_powerLimit   \n",
       "299183  1647715486295  -977145491 -2098644635  2043382078  LM_powerLimit   \n",
       "299187  1647715496312  -977145491 -2098644635  2043382078  LM_powerLimit   \n",
       "299192  1647715507304  -977145491 -2098644635  2043382078  LM_powerLimit   \n",
       "\n",
       "             VALUE event_date  \n",
       "247419  290.118909 2022-03-12  \n",
       "247427  286.958752 2022-03-12  \n",
       "247432  281.348288 2022-03-12  \n",
       "247427  286.958752 2022-03-12  \n",
       "247432  281.348288 2022-03-12  \n",
       "...            ...        ...  \n",
       "299183  229.033051 2022-03-19  \n",
       "299187  226.068743 2022-03-19  \n",
       "299183  229.033051 2022-03-19  \n",
       "299187  226.068743 2022-03-19  \n",
       "299192  222.390971 2022-03-19  \n",
       "\n",
       "[4964 rows x 7 columns]"
      ]
     },
     "execution_count": 53,
     "metadata": {},
     "output_type": "execute_result"
    }
   ],
   "source": [
    "powerlimit_above90_df"
   ]
  },
  {
   "cell_type": "code",
   "execution_count": 54,
   "id": "6e948316",
   "metadata": {},
   "outputs": [
    {
     "name": "stdout",
     "output_type": "stream",
     "text": [
      "     COMPONENT       VALUE\n",
      "0  -2126979618  229.461281\n",
      "1  -2048121660  274.345267\n",
      "2  -1996083301  359.295607\n",
      "3  -1822444058  244.193624\n",
      "4  -1747047773  267.027372\n",
      "5  -1745692884  304.524100\n",
      "6  -1702932383  236.621925\n",
      "7  -1644468160  278.740096\n",
      "8  -1489919606  268.480017\n",
      "9  -1473041981  277.391832\n",
      "10 -1345639539  230.896838\n",
      "11 -1139065776  290.118909\n",
      "12 -1112487124  238.495042\n",
      "13 -1107987050  308.892027\n",
      "14  -824155902  204.718435\n",
      "15  -784889276  271.398547\n",
      "16   369714770  270.149446\n",
      "17   399812473  303.394367\n",
      "18   420204713  297.412315\n",
      "19   672028928  286.584675\n",
      "20   851777939  297.148150\n",
      "21  1036677714  294.268552\n",
      "22  1060928447  208.680031\n",
      "23  1130578083  297.288226\n",
      "24  1212935405  295.949308\n",
      "25  1220791812  276.828181\n",
      "26  1261478727  260.273086\n",
      "27  1348730178  251.414973\n",
      "28  1395314372  244.694867\n",
      "29  1411109599  261.185191\n",
      "30  1449025406  211.765505\n",
      "31  2043382078  242.334900\n"
     ]
    }
   ],
   "source": [
    "max_values_component = powerlimit_above90_df.groupby('COMPONENT')['VALUE'].max()\n",
    "max_values_component_df = pd.DataFrame(max_values_component.reset_index())\n",
    "print(max_values_component_df)"
   ]
  },
  {
   "cell_type": "markdown",
   "id": "75d1bb2f",
   "metadata": {},
   "source": [
    "--------------------------------------------------------------------------------------------------------"
   ]
  },
  {
   "cell_type": "markdown",
   "id": "a03e45fd",
   "metadata": {},
   "source": [
    "# Question 3"
   ]
  },
  {
   "cell_type": "code",
   "execution_count": 55,
   "id": "f18b057b",
   "metadata": {
    "scrolled": false
   },
   "outputs": [
    {
     "data": {
      "text/html": [
       "<div>\n",
       "<style scoped>\n",
       "    .dataframe tbody tr th:only-of-type {\n",
       "        vertical-align: middle;\n",
       "    }\n",
       "\n",
       "    .dataframe tbody tr th {\n",
       "        vertical-align: top;\n",
       "    }\n",
       "\n",
       "    .dataframe thead th {\n",
       "        text-align: right;\n",
       "    }\n",
       "</style>\n",
       "<table border=\"1\" class=\"dataframe\">\n",
       "  <thead>\n",
       "    <tr style=\"text-align: right;\">\n",
       "      <th></th>\n",
       "      <th>timestamp</th>\n",
       "      <th>SITE</th>\n",
       "      <th>ASSET</th>\n",
       "      <th>COMPONENT</th>\n",
       "      <th>alert_name</th>\n",
       "      <th>event_date</th>\n",
       "    </tr>\n",
       "  </thead>\n",
       "  <tbody>\n",
       "    <tr>\n",
       "      <th>0</th>\n",
       "      <td>1647619928967</td>\n",
       "      <td>-1844894889</td>\n",
       "      <td>1477164192</td>\n",
       "      <td>-1702932383</td>\n",
       "      <td>LM_a141_cableTempImbalance</td>\n",
       "      <td>2022-03-18</td>\n",
       "    </tr>\n",
       "    <tr>\n",
       "      <th>1</th>\n",
       "      <td>1647620105662</td>\n",
       "      <td>-1844894889</td>\n",
       "      <td>1477164192</td>\n",
       "      <td>-1702932383</td>\n",
       "      <td>LM_a141_cableTempImbalance</td>\n",
       "      <td>2022-03-18</td>\n",
       "    </tr>\n",
       "    <tr>\n",
       "      <th>2</th>\n",
       "      <td>1647259045505</td>\n",
       "      <td>-977145491</td>\n",
       "      <td>-2098644635</td>\n",
       "      <td>-226928606</td>\n",
       "      <td>LM_a141_cableTempImbalance</td>\n",
       "      <td>2022-03-14</td>\n",
       "    </tr>\n",
       "    <tr>\n",
       "      <th>3</th>\n",
       "      <td>1647193059705</td>\n",
       "      <td>-207607826</td>\n",
       "      <td>-1470107556</td>\n",
       "      <td>-837209140</td>\n",
       "      <td>LM_a141_cableTempImbalance</td>\n",
       "      <td>2022-03-13</td>\n",
       "    </tr>\n",
       "    <tr>\n",
       "      <th>4</th>\n",
       "      <td>1647193502594</td>\n",
       "      <td>-207607826</td>\n",
       "      <td>-1470107556</td>\n",
       "      <td>-837209140</td>\n",
       "      <td>LM_a141_cableTempImbalance</td>\n",
       "      <td>2022-03-13</td>\n",
       "    </tr>\n",
       "  </tbody>\n",
       "</table>\n",
       "</div>"
      ],
      "text/plain": [
       "       timestamp        SITE       ASSET   COMPONENT  \\\n",
       "0  1647619928967 -1844894889  1477164192 -1702932383   \n",
       "1  1647620105662 -1844894889  1477164192 -1702932383   \n",
       "2  1647259045505  -977145491 -2098644635  -226928606   \n",
       "3  1647193059705  -207607826 -1470107556  -837209140   \n",
       "4  1647193502594  -207607826 -1470107556  -837209140   \n",
       "\n",
       "                   alert_name event_date  \n",
       "0  LM_a141_cableTempImbalance 2022-03-18  \n",
       "1  LM_a141_cableTempImbalance 2022-03-18  \n",
       "2  LM_a141_cableTempImbalance 2022-03-14  \n",
       "3  LM_a141_cableTempImbalance 2022-03-13  \n",
       "4  LM_a141_cableTempImbalance 2022-03-13  "
      ]
     },
     "execution_count": 55,
     "metadata": {},
     "output_type": "execute_result"
    }
   ],
   "source": [
    "Analyst_Alerts.head()"
   ]
  },
  {
   "cell_type": "code",
   "execution_count": 56,
   "id": "d10cd3ec",
   "metadata": {
    "scrolled": true
   },
   "outputs": [
    {
     "data": {
      "text/plain": [
       "array(['LM_a141_cableTempImbalance', 'LM_a247_ambientTempStale',\n",
       "       'LM_a191_negTempRationality', 'LM_a188_negTempOT',\n",
       "       'LM_a243_negCoreTempHiFoldBk'], dtype=object)"
      ]
     },
     "execution_count": 56,
     "metadata": {},
     "output_type": "execute_result"
    }
   ],
   "source": [
    "Analyst_Alerts['alert_name'].unique()"
   ]
  },
  {
   "cell_type": "markdown",
   "id": "595f4459",
   "metadata": {},
   "source": [
    "All alerts are temperature related"
   ]
  },
  {
   "cell_type": "code",
   "execution_count": 57,
   "id": "6b8d3d3b",
   "metadata": {},
   "outputs": [],
   "source": [
    "Analyst_Alerts = Analyst_Alerts.sort_values(by='event_date')"
   ]
  },
  {
   "cell_type": "code",
   "execution_count": 58,
   "id": "37d170e5",
   "metadata": {
    "scrolled": true
   },
   "outputs": [
    {
     "data": {
      "text/plain": [
       "2022-03-14    660\n",
       "2022-03-16     51\n",
       "2022-03-17     42\n",
       "2022-03-13     30\n",
       "2022-03-15     30\n",
       "2022-03-19     13\n",
       "2022-03-12      4\n",
       "2022-03-18      2\n",
       "Name: event_date, dtype: int64"
      ]
     },
     "execution_count": 58,
     "metadata": {},
     "output_type": "execute_result"
    }
   ],
   "source": [
    "Analyst_Alerts['event_date'].value_counts()"
   ]
  },
  {
   "cell_type": "markdown",
   "id": "cc23cb34",
   "metadata": {},
   "source": [
    "#### For Question 3:\n",
    "\n",
    "All Alerts in the Analyst Alerts dataframe correspond to Temperature related incidents. Logic for Identifying Temperature Records for each Alert raised:\n",
    "\n",
    "1. For each date, we start by loading all 3 temperature files and concatenating them into one dataframe. \n",
    "\n",
    "\n",
    "2. Filter the Analyst Alerts dateset by date. \n",
    "\n",
    "\n",
    "3. We assume that there would be a delay between the Alert firing and the actual Log being generated. Therefore we start by identifying records from the Temperature dataframe which occurred between a range of Alert timestamp - 10 seconds to the Alert timestamp. For cases where there was a match in the logs a definitive spike was observed within 10 seconds.\n",
    "\n",
    "\n",
    "4. Then for each date we filter the records identified fron the Temperature dataframe by components which are present in the Analyst Alerts dataset for that particular date. \n",
    "\n",
    "\n",
    "5. These filtered records are then stored in a global dataframe 'Alert_Matches_Temp' along with the index of the record from the Alert_Analyst for which the records were identified as potential matches.\n",
    "\n",
    "\n",
    "6. This same process is repeated to identify the records from Power Limit files correponding to Alerts raised. These records are then stored in a global dataframe 'Alert_Matches_Power'\n",
    "\n",
    "\n",
    "7. To identify the temperature/power log corresponding to the Alert we create a function which takes as input the index of the particular Alert from Analyst Alert file and the dataframe of Matches (Alert_Matches_Temp OR Alert_Matches_Power dataframe).\n",
    "\n",
    "\n",
    "8. The Matches dataframe is filtered by the index of the Alert. If there are not Matches to the particular Alert index, the function returns None.\n",
    "\n",
    "\n",
    "9. For the matched records we get for the particular alert, we identify the record with the highest 'VALUE' entry.\n",
    "\n",
    "\n",
    "10. We also define a threshold value to avoid confusion if there are multiple records whose 'VALUE' entry is similar to the record with the highest 'VALUE' entry. \n",
    "\n",
    "    \n",
    "    In the case where the difference between the Maximum 'VALUE' and the second highest 'VALUE' is above the threshold, the record with the Max 'VALUE' is identified as the record correspondong to the alert. In the case where there is 1 or more records for which the difference between their 'VALUE' entry and the max 'VALUE' entry is under a particular threshold, we still opt to identify the record with the Max 'VALUE'. We cannot assume that the record closest in timestamp would be the one correly corresponding to the Alert either.\n"
   ]
  },
  {
   "cell_type": "code",
   "execution_count": 59,
   "id": "247db855",
   "metadata": {},
   "outputs": [
    {
     "name": "stdout",
     "output_type": "stream",
     "text": [
      "CPU times: user 3.96 s, sys: 784 ms, total: 4.75 s\n",
      "Wall time: 6.5 s\n"
     ]
    }
   ],
   "source": [
    "%%time\n",
    "dates = ['2022-03-12', '2022-03-13', '2022-03-14', '2022-03-15', '2022-03-16', '2022-03-17', '2022-03-18', '2022-03-19']\n",
    "date_dicts = [dataframes_12, dataframes_13, dataframes_14, dataframes_15, dataframes_16, dataframes_17, dataframes_18, dataframes_19]\n",
    "\n",
    "Alert_Matches_Temp = pd.DataFrame()\n",
    "Alert_Matches_Power = pd.DataFrame()\n",
    "\n",
    "for date, date_dict in zip(dates, date_dicts):\n",
    "    filtered_alerts = Analyst_Alerts[Analyst_Alerts['event_date'] == date]\n",
    "    concatenated_temp = pd.DataFrame()\n",
    "    concatenated_power = pd.DataFrame()\n",
    "\n",
    "    for key in date_dict.keys():\n",
    "        if \"Temp\" in key:\n",
    "            concatenated_temp = pd.concat([concatenated_temp, date_dict[key]])\n",
    "        elif \"Power\" in key or \"power\" in key:\n",
    "            concatenated_power = pd.concat([concatenated_power, date_dict[key]])\n",
    "    \n",
    "    for i, alert_record in filtered_alerts.iterrows():\n",
    "        matching_temp_record = concatenated_temp.loc[concatenated_temp['timestamp'].between(alert_record['timestamp'] - 10000, alert_record['timestamp'])]\n",
    "        matching_power_record = concatenated_power.loc[concatenated_power['timestamp'].between(alert_record['timestamp'] - 10000, alert_record['timestamp'])]\n",
    "\n",
    "        if not matching_temp_record.empty:\n",
    "            matching_temp_record = matching_temp_record[matching_temp_record['COMPONENT'].isin(filtered_alerts['COMPONENT'])]\n",
    "            matching_temp_record['alert_index'] = i\n",
    "            Alert_Matches_Temp = pd.concat([Alert_Matches_Temp, matching_temp_record])\n",
    "\n",
    "        if not matching_power_record.empty:\n",
    "            matching_power_record = matching_power_record[matching_power_record['COMPONENT'].isin(filtered_alerts['COMPONENT'])]\n",
    "            matching_power_record['alert_index'] = i\n",
    "            Alert_Matches_Power = pd.concat([Alert_Matches_Power, matching_power_record])\n",
    "\n",
    "Alert_Matches_Temp = Alert_Matches_Temp.reset_index(drop=True)\n",
    "Alert_Matches_Power = Alert_Matches_Power.reset_index(drop=True)\n"
   ]
  },
  {
   "cell_type": "code",
   "execution_count": 60,
   "id": "5e67dde2",
   "metadata": {
    "scrolled": false
   },
   "outputs": [
    {
     "name": "stdout",
     "output_type": "stream",
     "text": [
      "(2530, 8)\n",
      "(1636, 8)\n"
     ]
    }
   ],
   "source": [
    "print(Alert_Matches_Temp.shape)\n",
    "print(Alert_Matches_Power.shape)"
   ]
  },
  {
   "cell_type": "code",
   "execution_count": 61,
   "id": "69f76f70",
   "metadata": {},
   "outputs": [
    {
     "data": {
      "text/html": [
       "<div>\n",
       "<style scoped>\n",
       "    .dataframe tbody tr th:only-of-type {\n",
       "        vertical-align: middle;\n",
       "    }\n",
       "\n",
       "    .dataframe tbody tr th {\n",
       "        vertical-align: top;\n",
       "    }\n",
       "\n",
       "    .dataframe thead th {\n",
       "        text-align: right;\n",
       "    }\n",
       "</style>\n",
       "<table border=\"1\" class=\"dataframe\">\n",
       "  <thead>\n",
       "    <tr style=\"text-align: right;\">\n",
       "      <th></th>\n",
       "      <th>timestamp</th>\n",
       "      <th>SITE</th>\n",
       "      <th>ASSET</th>\n",
       "      <th>COMPONENT</th>\n",
       "      <th>signal_name</th>\n",
       "      <th>VALUE</th>\n",
       "      <th>event_date</th>\n",
       "      <th>alert_index</th>\n",
       "    </tr>\n",
       "  </thead>\n",
       "  <tbody>\n",
       "    <tr>\n",
       "      <th>0</th>\n",
       "      <td>1647112002197</td>\n",
       "      <td>-2073653851</td>\n",
       "      <td>-2126066089</td>\n",
       "      <td>-46972795</td>\n",
       "      <td>LM_handleNegCoreTempDegC</td>\n",
       "      <td>34.799605</td>\n",
       "      <td>2022-03-12</td>\n",
       "      <td>6</td>\n",
       "    </tr>\n",
       "    <tr>\n",
       "      <th>1</th>\n",
       "      <td>1647112002197</td>\n",
       "      <td>-2073653851</td>\n",
       "      <td>-2126066089</td>\n",
       "      <td>-46972795</td>\n",
       "      <td>LM_handlePosCoreTempDegC</td>\n",
       "      <td>52.550562</td>\n",
       "      <td>2022-03-12</td>\n",
       "      <td>6</td>\n",
       "    </tr>\n",
       "    <tr>\n",
       "      <th>2</th>\n",
       "      <td>1647112093224</td>\n",
       "      <td>-2073653851</td>\n",
       "      <td>-2126066089</td>\n",
       "      <td>-46972795</td>\n",
       "      <td>LM_pcbaTempDegC</td>\n",
       "      <td>31.318638</td>\n",
       "      <td>2022-03-12</td>\n",
       "      <td>7</td>\n",
       "    </tr>\n",
       "    <tr>\n",
       "      <th>3</th>\n",
       "      <td>1647112095207</td>\n",
       "      <td>-2073653851</td>\n",
       "      <td>-2126066089</td>\n",
       "      <td>-46972795</td>\n",
       "      <td>LM_handleNegCoreTempDegC</td>\n",
       "      <td>40.097450</td>\n",
       "      <td>2022-03-12</td>\n",
       "      <td>7</td>\n",
       "    </tr>\n",
       "    <tr>\n",
       "      <th>4</th>\n",
       "      <td>1647112095207</td>\n",
       "      <td>-2073653851</td>\n",
       "      <td>-2126066089</td>\n",
       "      <td>-46972795</td>\n",
       "      <td>LM_handlePosCoreTempDegC</td>\n",
       "      <td>59.486019</td>\n",
       "      <td>2022-03-12</td>\n",
       "      <td>7</td>\n",
       "    </tr>\n",
       "    <tr>\n",
       "      <th>...</th>\n",
       "      <td>...</td>\n",
       "      <td>...</td>\n",
       "      <td>...</td>\n",
       "      <td>...</td>\n",
       "      <td>...</td>\n",
       "      <td>...</td>\n",
       "      <td>...</td>\n",
       "      <td>...</td>\n",
       "    </tr>\n",
       "    <tr>\n",
       "      <th>2525</th>\n",
       "      <td>1647724516811</td>\n",
       "      <td>-152918872</td>\n",
       "      <td>365951380</td>\n",
       "      <td>420204713</td>\n",
       "      <td>LM_pcbaTempDegC</td>\n",
       "      <td>55.512052</td>\n",
       "      <td>2022-03-19</td>\n",
       "      <td>107</td>\n",
       "    </tr>\n",
       "    <tr>\n",
       "      <th>2526</th>\n",
       "      <td>1647724518488</td>\n",
       "      <td>-1844894889</td>\n",
       "      <td>1477164192</td>\n",
       "      <td>-1702932383</td>\n",
       "      <td>LM_handleNegCoreTempDegC</td>\n",
       "      <td>56.202208</td>\n",
       "      <td>2022-03-19</td>\n",
       "      <td>107</td>\n",
       "    </tr>\n",
       "    <tr>\n",
       "      <th>2527</th>\n",
       "      <td>1647724515820</td>\n",
       "      <td>-152918872</td>\n",
       "      <td>365951380</td>\n",
       "      <td>420204713</td>\n",
       "      <td>LM_handleNegCoreTempDegC</td>\n",
       "      <td>52.496182</td>\n",
       "      <td>2022-03-19</td>\n",
       "      <td>107</td>\n",
       "    </tr>\n",
       "    <tr>\n",
       "      <th>2528</th>\n",
       "      <td>1647724518488</td>\n",
       "      <td>-1844894889</td>\n",
       "      <td>1477164192</td>\n",
       "      <td>-1702932383</td>\n",
       "      <td>LM_handlePosCoreTempDegC</td>\n",
       "      <td>74.941666</td>\n",
       "      <td>2022-03-19</td>\n",
       "      <td>107</td>\n",
       "    </tr>\n",
       "    <tr>\n",
       "      <th>2529</th>\n",
       "      <td>1647724515820</td>\n",
       "      <td>-152918872</td>\n",
       "      <td>365951380</td>\n",
       "      <td>420204713</td>\n",
       "      <td>LM_handlePosCoreTempDegC</td>\n",
       "      <td>53.562946</td>\n",
       "      <td>2022-03-19</td>\n",
       "      <td>107</td>\n",
       "    </tr>\n",
       "  </tbody>\n",
       "</table>\n",
       "<p>2530 rows × 8 columns</p>\n",
       "</div>"
      ],
      "text/plain": [
       "          timestamp        SITE       ASSET   COMPONENT  \\\n",
       "0     1647112002197 -2073653851 -2126066089   -46972795   \n",
       "1     1647112002197 -2073653851 -2126066089   -46972795   \n",
       "2     1647112093224 -2073653851 -2126066089   -46972795   \n",
       "3     1647112095207 -2073653851 -2126066089   -46972795   \n",
       "4     1647112095207 -2073653851 -2126066089   -46972795   \n",
       "...             ...         ...         ...         ...   \n",
       "2525  1647724516811  -152918872   365951380   420204713   \n",
       "2526  1647724518488 -1844894889  1477164192 -1702932383   \n",
       "2527  1647724515820  -152918872   365951380   420204713   \n",
       "2528  1647724518488 -1844894889  1477164192 -1702932383   \n",
       "2529  1647724515820  -152918872   365951380   420204713   \n",
       "\n",
       "                   signal_name      VALUE event_date  alert_index  \n",
       "0     LM_handleNegCoreTempDegC  34.799605 2022-03-12            6  \n",
       "1     LM_handlePosCoreTempDegC  52.550562 2022-03-12            6  \n",
       "2              LM_pcbaTempDegC  31.318638 2022-03-12            7  \n",
       "3     LM_handleNegCoreTempDegC  40.097450 2022-03-12            7  \n",
       "4     LM_handlePosCoreTempDegC  59.486019 2022-03-12            7  \n",
       "...                        ...        ...        ...          ...  \n",
       "2525           LM_pcbaTempDegC  55.512052 2022-03-19          107  \n",
       "2526  LM_handleNegCoreTempDegC  56.202208 2022-03-19          107  \n",
       "2527  LM_handleNegCoreTempDegC  52.496182 2022-03-19          107  \n",
       "2528  LM_handlePosCoreTempDegC  74.941666 2022-03-19          107  \n",
       "2529  LM_handlePosCoreTempDegC  53.562946 2022-03-19          107  \n",
       "\n",
       "[2530 rows x 8 columns]"
      ]
     },
     "execution_count": 61,
     "metadata": {},
     "output_type": "execute_result"
    }
   ],
   "source": [
    "Alert_Matches_Temp"
   ]
  },
  {
   "cell_type": "markdown",
   "id": "43034031",
   "metadata": {},
   "source": [
    "#### Identifying which Alert records were not matched in the Temperature logs"
   ]
  },
  {
   "cell_type": "code",
   "execution_count": 62,
   "id": "b53223a4",
   "metadata": {},
   "outputs": [],
   "source": [
    "all_missing_indexes_power = []\n",
    "\n",
    "# Iterate over the unique dates in Analyst_Alerts\n",
    "for date in Analyst_Alerts['event_date'].unique():\n",
    "    # Get the indexes of Analyst_Alerts records for the current date\n",
    "    analyst_alerts_indexes = set(Analyst_Alerts[Analyst_Alerts['event_date'] == date].index)\n",
    "\n",
    "    # Get the alert_index values from Alert_Matches_Temp for the current date\n",
    "    alert_matches_temp_indexes = set(Alert_Matches_Power[Alert_Matches_Power['event_date'] == date]['alert_index'])\n",
    "    missing_indexes = analyst_alerts_indexes - alert_matches_temp_indexes \n",
    "    all_missing_indexes_power.extend(missing_indexes)\n"
   ]
  },
  {
   "cell_type": "code",
   "execution_count": 63,
   "id": "18fe9227",
   "metadata": {},
   "outputs": [
    {
     "data": {
      "text/plain": [
       "205"
      ]
     },
     "execution_count": 63,
     "metadata": {},
     "output_type": "execute_result"
    }
   ],
   "source": [
    "len(all_missing_indexes_power)"
   ]
  },
  {
   "cell_type": "code",
   "execution_count": 64,
   "id": "03b1b36e",
   "metadata": {
    "scrolled": true
   },
   "outputs": [],
   "source": [
    "all_missing_indexes = []\n",
    "\n",
    "# Iterate over the unique dates in Analyst_Alerts\n",
    "for date in Analyst_Alerts['event_date'].unique():\n",
    "    # Get the indexes of Analyst_Alerts records for the current date\n",
    "    analyst_alerts_indexes = set(Analyst_Alerts[Analyst_Alerts['event_date'] == date].index)\n",
    "\n",
    "    # Get the alert_index values from Alert_Matches_Temp for the current date\n",
    "    alert_matches_temp_indexes = set(Alert_Matches_Temp[Alert_Matches_Temp['event_date'] == date]['alert_index'])\n",
    "    missing_indexes = analyst_alerts_indexes - alert_matches_temp_indexes\n",
    "    all_missing_indexes.extend(missing_indexes)"
   ]
  },
  {
   "cell_type": "code",
   "execution_count": 65,
   "id": "207d3a6b",
   "metadata": {},
   "outputs": [
    {
     "data": {
      "text/plain": [
       "212"
      ]
     },
     "execution_count": 65,
     "metadata": {},
     "output_type": "execute_result"
    }
   ],
   "source": [
    "len(all_missing_indexes)"
   ]
  },
  {
   "cell_type": "code",
   "execution_count": 66,
   "id": "cec07e44",
   "metadata": {
    "scrolled": true
   },
   "outputs": [
    {
     "name": "stdout",
     "output_type": "stream",
     "text": [
      "Date: 2022-03-16, COMPONENT: -1843899103\n",
      "Date: 2022-03-16, COMPONENT: -404457910\n",
      "Date: 2022-03-16, COMPONENT: -404457910\n",
      "Date: 2022-03-16, COMPONENT: 1105510009\n",
      "Date: 2022-03-16, COMPONENT: 1105510009\n",
      "Date: 2022-03-16, COMPONENT: -1843899103\n",
      "Date: 2022-03-16, COMPONENT: -404457910\n",
      "Date: 2022-03-16, COMPONENT: -404457910\n",
      "Date: 2022-03-16, COMPONENT: 1105510009\n",
      "Date: 2022-03-16, COMPONENT: -1843899103\n",
      "Date: 2022-03-16, COMPONENT: -1843899103\n",
      "Date: 2022-03-16, COMPONENT: -404457910\n",
      "Date: 2022-03-16, COMPONENT: 1105510009\n",
      "Date: 2022-03-16, COMPONENT: -1843899103\n",
      "Date: 2022-03-16, COMPONENT: -404457910\n",
      "Date: 2022-03-16, COMPONENT: 1105510009\n",
      "Date: 2022-03-16, COMPONENT: -1843899103\n",
      "Date: 2022-03-16, COMPONENT: -1843899103\n",
      "Date: 2022-03-16, COMPONENT: -404457910\n",
      "Date: 2022-03-16, COMPONENT: 1105510009\n",
      "Date: 2022-03-17, COMPONENT: -404457910\n",
      "Date: 2022-03-19, COMPONENT: -1843899103\n",
      "Date: 2022-03-17, COMPONENT: -358949053\n"
     ]
    }
   ],
   "source": [
    "# Get the unique dates and corresponding unique COMPONENT values from the missing records\n",
    "unique_dates_components = Analyst_Alerts.iloc[all_missing_indexes,:].drop_duplicates()\n",
    "\n",
    "# Iterate through the unique dates and COMPONENT values\n",
    "for _, row in unique_dates_components.iterrows():\n",
    "    event_date = row['event_date'].strftime('%Y-%m-%d')\n",
    "    #print(event_date)\n",
    "    component = row['COMPONENT']\n",
    "    \n",
    "    # Create a combined DataFrame for the temperature dataframes for the current date\n",
    "    concat_test = pd.DataFrame()\n",
    "    \n",
    "    for key in date_grouped_dataframes[event_date]:\n",
    "        if \"Temp\" in key:\n",
    "            concat_test = pd.concat([concat_test, date_grouped_dataframes[event_date][key]], ignore_index=True)\n",
    "    \n",
    "    # If current unique COMPONENT value is in the combined DataFrame\n",
    "    component_exists = concat_test['COMPONENT'].isin([component]).any()\n",
    "    \n",
    "    if not component_exists:\n",
    "        print(f\"Date: {event_date}, COMPONENT: {component}\")"
   ]
  },
  {
   "cell_type": "markdown",
   "id": "a3fad200",
   "metadata": {},
   "source": [
    "We observe that out of the 832 Alerts, we were not able to identify temperature logs for 212 Alerts. This is in part due to certain components present in Alerts dataframe not being present in the temperature files."
   ]
  },
  {
   "cell_type": "code",
   "execution_count": 67,
   "id": "e3ea414f",
   "metadata": {},
   "outputs": [],
   "source": [
    "def HighestValue(analyst_alert_index, alert_matches_df, value_tolerance=4):\n",
    "    matching_records = alert_matches_df[alert_matches_df['alert_index'] == analyst_alert_index]\n",
    "\n",
    "    if matching_records is None:\n",
    "        return None\n",
    "\n",
    "    highest_value = matching_records['VALUE'].max()\n",
    "    close_values = matching_records[abs(matching_records['VALUE'] - highest_value) <= value_tolerance]\n",
    "\n",
    "    if len(close_values) == 1:\n",
    "        return close_values.iloc[0]\n",
    "    else:\n",
    "        return close_values.iloc[0]\n",
    "#         analyst_alert_timestamp = Analyst_Alerts.loc[analyst_alert_index, 'timestamp']\n",
    "#         close_values['time_diff'] = abs(close_values['timestamp'] - analyst_alert_timestamp)\n",
    "#         result = close_values.loc[close_values['time_diff'].idxmin()]\n",
    "#         return result.drop('time_diff')"
   ]
  },
  {
   "cell_type": "code",
   "execution_count": 68,
   "id": "910a3dc6",
   "metadata": {
    "scrolled": true
   },
   "outputs": [
    {
     "name": "stdout",
     "output_type": "stream",
     "text": [
      "Highest value Temp record:\n",
      "timestamp                 1647620101684\n",
      "SITE                        -1844894889\n",
      "ASSET                        1477164192\n",
      "COMPONENT                   -1702932383\n",
      "signal_name    LM_handleNegCoreTempDegC\n",
      "VALUE                         74.831863\n",
      "event_date          2022-03-18 00:00:00\n",
      "alert_index                           1\n",
      "Name: 2477, dtype: object\n",
      "\n",
      "Highest value Power record:\n",
      "timestamp            1647620097571\n",
      "SITE                   -1844894889\n",
      "ASSET                   1477164192\n",
      "COMPONENT              -1702932383\n",
      "signal_name          LM_powerLimit\n",
      "VALUE                   130.468721\n",
      "event_date     2022-03-18 00:00:00\n",
      "alert_index                      1\n",
      "Name: 1600, dtype: object\n"
     ]
    }
   ],
   "source": [
    "analyst_alert_index = 1  # Change this to the index of the Analyst Alert record you're interested in\n",
    "highest_value_temp_record = HighestValue(analyst_alert_index, Alert_Matches_Temp)\n",
    "highest_value_power_record = HighestValue(analyst_alert_index, Alert_Matches_Power)\n",
    "\n",
    "print(\"Highest value Temp record:\")\n",
    "print(highest_value_temp_record)\n",
    "print()\n",
    "print(\"Highest value Power record:\")\n",
    "print(highest_value_power_record)"
   ]
  },
  {
   "cell_type": "markdown",
   "id": "a7bc5784",
   "metadata": {},
   "source": [
    "#### Identifying the matched records for each Alert index in Alert_Matches_Temp and Alert_Matches_Power. There will be 627 records for Temperature logs matching Alerts raised and 620 records for Power logs"
   ]
  },
  {
   "cell_type": "code",
   "execution_count": 69,
   "id": "9c70ef77",
   "metadata": {},
   "outputs": [],
   "source": [
    "def unique_records(alert_matches_df, HighestValue):\n",
    "    unique_alert_indices = alert_matches_df['alert_index'].unique()\n",
    "    unique_alerts = pd.DataFrame()\n",
    "\n",
    "    for index in unique_alert_indices:\n",
    "        highest_value_record = HighestValue(index, alert_matches_df)\n",
    "        if highest_value_record is not None:\n",
    "            unique_alerts = unique_alerts.append(highest_value_record, ignore_index=True)\n",
    "\n",
    "    return unique_alerts"
   ]
  },
  {
   "cell_type": "code",
   "execution_count": 70,
   "id": "88ea9ea7",
   "metadata": {
    "scrolled": true
   },
   "outputs": [
    {
     "name": "stderr",
     "output_type": "stream",
     "text": [
      "/var/folders/2q/t2zqpdvs08xfcswxyd3rdsn80000gn/T/ipykernel_96739/857222388.py:8: FutureWarning: The frame.append method is deprecated and will be removed from pandas in a future version. Use pandas.concat instead.\n",
      "  unique_alerts = unique_alerts.append(highest_value_record, ignore_index=True)\n",
      "/var/folders/2q/t2zqpdvs08xfcswxyd3rdsn80000gn/T/ipykernel_96739/857222388.py:8: FutureWarning: The frame.append method is deprecated and will be removed from pandas in a future version. Use pandas.concat instead.\n",
      "  unique_alerts = unique_alerts.append(highest_value_record, ignore_index=True)\n"
     ]
    }
   ],
   "source": [
    "TempAlerts = unique_records(Alert_Matches_Temp, HighestValue)\n",
    "PowerAlerts = unique_records(Alert_Matches_Power, HighestValue)"
   ]
  },
  {
   "cell_type": "code",
   "execution_count": 71,
   "id": "1811d640",
   "metadata": {},
   "outputs": [],
   "source": [
    "TempAlerts.to_csv('TempAlerts.csv')\n",
    "PowerAlerts.to_csv('PowerAlerts.csv')"
   ]
  },
  {
   "cell_type": "code",
   "execution_count": 72,
   "id": "7b3aa594",
   "metadata": {},
   "outputs": [
    {
     "data": {
      "text/html": [
       "<div>\n",
       "<style scoped>\n",
       "    .dataframe tbody tr th:only-of-type {\n",
       "        vertical-align: middle;\n",
       "    }\n",
       "\n",
       "    .dataframe tbody tr th {\n",
       "        vertical-align: top;\n",
       "    }\n",
       "\n",
       "    .dataframe thead th {\n",
       "        text-align: right;\n",
       "    }\n",
       "</style>\n",
       "<table border=\"1\" class=\"dataframe\">\n",
       "  <thead>\n",
       "    <tr style=\"text-align: right;\">\n",
       "      <th></th>\n",
       "      <th>timestamp</th>\n",
       "      <th>SITE</th>\n",
       "      <th>ASSET</th>\n",
       "      <th>COMPONENT</th>\n",
       "      <th>signal_name</th>\n",
       "      <th>VALUE</th>\n",
       "      <th>event_date</th>\n",
       "      <th>alert_index</th>\n",
       "    </tr>\n",
       "  </thead>\n",
       "  <tbody>\n",
       "    <tr>\n",
       "      <th>0</th>\n",
       "      <td>1647112002197</td>\n",
       "      <td>-2073653851</td>\n",
       "      <td>-2126066089</td>\n",
       "      <td>-46972795</td>\n",
       "      <td>LM_handlePosCoreTempDegC</td>\n",
       "      <td>52.550562</td>\n",
       "      <td>2022-03-12</td>\n",
       "      <td>6</td>\n",
       "    </tr>\n",
       "    <tr>\n",
       "      <th>1</th>\n",
       "      <td>1647112095207</td>\n",
       "      <td>-2073653851</td>\n",
       "      <td>-2126066089</td>\n",
       "      <td>-46972795</td>\n",
       "      <td>LM_handlePosCoreTempDegC</td>\n",
       "      <td>59.486019</td>\n",
       "      <td>2022-03-12</td>\n",
       "      <td>7</td>\n",
       "    </tr>\n",
       "    <tr>\n",
       "      <th>2</th>\n",
       "      <td>1647112190202</td>\n",
       "      <td>-2073653851</td>\n",
       "      <td>-2126066089</td>\n",
       "      <td>-46972795</td>\n",
       "      <td>LM_handlePosCoreTempDegC</td>\n",
       "      <td>63.582844</td>\n",
       "      <td>2022-03-12</td>\n",
       "      <td>8</td>\n",
       "    </tr>\n",
       "    <tr>\n",
       "      <th>3</th>\n",
       "      <td>1647112312202</td>\n",
       "      <td>-2073653851</td>\n",
       "      <td>-2126066089</td>\n",
       "      <td>-46972795</td>\n",
       "      <td>LM_handlePosCoreTempDegC</td>\n",
       "      <td>69.322221</td>\n",
       "      <td>2022-03-12</td>\n",
       "      <td>9</td>\n",
       "    </tr>\n",
       "    <tr>\n",
       "      <th>4</th>\n",
       "      <td>1647178401444</td>\n",
       "      <td>-207607826</td>\n",
       "      <td>-1470107556</td>\n",
       "      <td>-837209140</td>\n",
       "      <td>LM_handlePosCoreTempDegC</td>\n",
       "      <td>49.258786</td>\n",
       "      <td>2022-03-13</td>\n",
       "      <td>178</td>\n",
       "    </tr>\n",
       "    <tr>\n",
       "      <th>...</th>\n",
       "      <td>...</td>\n",
       "      <td>...</td>\n",
       "      <td>...</td>\n",
       "      <td>...</td>\n",
       "      <td>...</td>\n",
       "      <td>...</td>\n",
       "      <td>...</td>\n",
       "      <td>...</td>\n",
       "    </tr>\n",
       "    <tr>\n",
       "      <th>615</th>\n",
       "      <td>1647724973480</td>\n",
       "      <td>-1844894889</td>\n",
       "      <td>1477164192</td>\n",
       "      <td>-1702932383</td>\n",
       "      <td>LM_handlePosCoreTempDegC</td>\n",
       "      <td>88.369624</td>\n",
       "      <td>2022-03-19</td>\n",
       "      <td>112</td>\n",
       "    </tr>\n",
       "    <tr>\n",
       "      <th>616</th>\n",
       "      <td>1647725087503</td>\n",
       "      <td>-1844894889</td>\n",
       "      <td>1477164192</td>\n",
       "      <td>-1702932383</td>\n",
       "      <td>LM_handlePosCoreTempDegC</td>\n",
       "      <td>91.233117</td>\n",
       "      <td>2022-03-19</td>\n",
       "      <td>113</td>\n",
       "    </tr>\n",
       "    <tr>\n",
       "      <th>617</th>\n",
       "      <td>1647662031276</td>\n",
       "      <td>-152918872</td>\n",
       "      <td>365951380</td>\n",
       "      <td>420204713</td>\n",
       "      <td>LM_handleNegCoreTempDegC</td>\n",
       "      <td>96.275534</td>\n",
       "      <td>2022-03-19</td>\n",
       "      <td>169</td>\n",
       "    </tr>\n",
       "    <tr>\n",
       "      <th>618</th>\n",
       "      <td>1647662166273</td>\n",
       "      <td>-152918872</td>\n",
       "      <td>365951380</td>\n",
       "      <td>420204713</td>\n",
       "      <td>LM_handleNegCoreTempDegC</td>\n",
       "      <td>101.675034</td>\n",
       "      <td>2022-03-19</td>\n",
       "      <td>170</td>\n",
       "    </tr>\n",
       "    <tr>\n",
       "      <th>619</th>\n",
       "      <td>1647724518488</td>\n",
       "      <td>-1844894889</td>\n",
       "      <td>1477164192</td>\n",
       "      <td>-1702932383</td>\n",
       "      <td>LM_handlePosCoreTempDegC</td>\n",
       "      <td>74.941666</td>\n",
       "      <td>2022-03-19</td>\n",
       "      <td>107</td>\n",
       "    </tr>\n",
       "  </tbody>\n",
       "</table>\n",
       "<p>620 rows × 8 columns</p>\n",
       "</div>"
      ],
      "text/plain": [
       "         timestamp        SITE       ASSET   COMPONENT  \\\n",
       "0    1647112002197 -2073653851 -2126066089   -46972795   \n",
       "1    1647112095207 -2073653851 -2126066089   -46972795   \n",
       "2    1647112190202 -2073653851 -2126066089   -46972795   \n",
       "3    1647112312202 -2073653851 -2126066089   -46972795   \n",
       "4    1647178401444  -207607826 -1470107556  -837209140   \n",
       "..             ...         ...         ...         ...   \n",
       "615  1647724973480 -1844894889  1477164192 -1702932383   \n",
       "616  1647725087503 -1844894889  1477164192 -1702932383   \n",
       "617  1647662031276  -152918872   365951380   420204713   \n",
       "618  1647662166273  -152918872   365951380   420204713   \n",
       "619  1647724518488 -1844894889  1477164192 -1702932383   \n",
       "\n",
       "                  signal_name       VALUE event_date  alert_index  \n",
       "0    LM_handlePosCoreTempDegC   52.550562 2022-03-12            6  \n",
       "1    LM_handlePosCoreTempDegC   59.486019 2022-03-12            7  \n",
       "2    LM_handlePosCoreTempDegC   63.582844 2022-03-12            8  \n",
       "3    LM_handlePosCoreTempDegC   69.322221 2022-03-12            9  \n",
       "4    LM_handlePosCoreTempDegC   49.258786 2022-03-13          178  \n",
       "..                        ...         ...        ...          ...  \n",
       "615  LM_handlePosCoreTempDegC   88.369624 2022-03-19          112  \n",
       "616  LM_handlePosCoreTempDegC   91.233117 2022-03-19          113  \n",
       "617  LM_handleNegCoreTempDegC   96.275534 2022-03-19          169  \n",
       "618  LM_handleNegCoreTempDegC  101.675034 2022-03-19          170  \n",
       "619  LM_handlePosCoreTempDegC   74.941666 2022-03-19          107  \n",
       "\n",
       "[620 rows x 8 columns]"
      ]
     },
     "execution_count": 72,
     "metadata": {},
     "output_type": "execute_result"
    }
   ],
   "source": [
    "TempAlerts"
   ]
  },
  {
   "cell_type": "code",
   "execution_count": 73,
   "id": "fbc7da3d",
   "metadata": {},
   "outputs": [],
   "source": [
    "MeanAlertTemp = TempAlerts['VALUE'].mean()"
   ]
  },
  {
   "cell_type": "code",
   "execution_count": 74,
   "id": "e799f6c3",
   "metadata": {},
   "outputs": [
    {
     "name": "stdout",
     "output_type": "stream",
     "text": [
      "The mean value of Temperature when an Alert fires is : 57.85496049002472\n"
     ]
    }
   ],
   "source": [
    "print(f\"The mean value of Temperature when an Alert fires is : {MeanAlertTemp}\")"
   ]
  },
  {
   "cell_type": "code",
   "execution_count": 75,
   "id": "e79cf5f8",
   "metadata": {
    "scrolled": true
   },
   "outputs": [
    {
     "data": {
      "text/html": [
       "<div>\n",
       "<style scoped>\n",
       "    .dataframe tbody tr th:only-of-type {\n",
       "        vertical-align: middle;\n",
       "    }\n",
       "\n",
       "    .dataframe tbody tr th {\n",
       "        vertical-align: top;\n",
       "    }\n",
       "\n",
       "    .dataframe thead th {\n",
       "        text-align: right;\n",
       "    }\n",
       "</style>\n",
       "<table border=\"1\" class=\"dataframe\">\n",
       "  <thead>\n",
       "    <tr style=\"text-align: right;\">\n",
       "      <th></th>\n",
       "      <th>timestamp</th>\n",
       "      <th>SITE</th>\n",
       "      <th>ASSET</th>\n",
       "      <th>COMPONENT</th>\n",
       "      <th>signal_name</th>\n",
       "      <th>VALUE</th>\n",
       "      <th>event_date</th>\n",
       "      <th>alert_index</th>\n",
       "    </tr>\n",
       "  </thead>\n",
       "  <tbody>\n",
       "    <tr>\n",
       "      <th>0</th>\n",
       "      <td>1647112004196</td>\n",
       "      <td>-2073653851</td>\n",
       "      <td>-2126066089</td>\n",
       "      <td>-46972795</td>\n",
       "      <td>LM_powerLimit</td>\n",
       "      <td>298.749587</td>\n",
       "      <td>2022-03-12</td>\n",
       "      <td>6</td>\n",
       "    </tr>\n",
       "    <tr>\n",
       "      <th>1</th>\n",
       "      <td>1647112088207</td>\n",
       "      <td>-2073653851</td>\n",
       "      <td>-2126066089</td>\n",
       "      <td>-46972795</td>\n",
       "      <td>LM_powerLimit</td>\n",
       "      <td>288.530682</td>\n",
       "      <td>2022-03-12</td>\n",
       "      <td>7</td>\n",
       "    </tr>\n",
       "    <tr>\n",
       "      <th>2</th>\n",
       "      <td>1647112187186</td>\n",
       "      <td>-2073653851</td>\n",
       "      <td>-2126066089</td>\n",
       "      <td>-46972795</td>\n",
       "      <td>LM_powerLimit</td>\n",
       "      <td>267.344244</td>\n",
       "      <td>2022-03-12</td>\n",
       "      <td>8</td>\n",
       "    </tr>\n",
       "    <tr>\n",
       "      <th>3</th>\n",
       "      <td>1647112306182</td>\n",
       "      <td>-2073653851</td>\n",
       "      <td>-2126066089</td>\n",
       "      <td>-46972795</td>\n",
       "      <td>LM_powerLimit</td>\n",
       "      <td>242.840057</td>\n",
       "      <td>2022-03-12</td>\n",
       "      <td>9</td>\n",
       "    </tr>\n",
       "    <tr>\n",
       "      <th>4</th>\n",
       "      <td>1647178396429</td>\n",
       "      <td>-207607826</td>\n",
       "      <td>-1470107556</td>\n",
       "      <td>-837209140</td>\n",
       "      <td>LM_powerLimit</td>\n",
       "      <td>105.268708</td>\n",
       "      <td>2022-03-13</td>\n",
       "      <td>178</td>\n",
       "    </tr>\n",
       "    <tr>\n",
       "      <th>...</th>\n",
       "      <td>...</td>\n",
       "      <td>...</td>\n",
       "      <td>...</td>\n",
       "      <td>...</td>\n",
       "      <td>...</td>\n",
       "      <td>...</td>\n",
       "      <td>...</td>\n",
       "      <td>...</td>\n",
       "    </tr>\n",
       "    <tr>\n",
       "      <th>622</th>\n",
       "      <td>1647724971479</td>\n",
       "      <td>-1844894889</td>\n",
       "      <td>1477164192</td>\n",
       "      <td>-1702932383</td>\n",
       "      <td>LM_powerLimit</td>\n",
       "      <td>239.696659</td>\n",
       "      <td>2022-03-19</td>\n",
       "      <td>112</td>\n",
       "    </tr>\n",
       "    <tr>\n",
       "      <th>623</th>\n",
       "      <td>1647725088470</td>\n",
       "      <td>-1844894889</td>\n",
       "      <td>1477164192</td>\n",
       "      <td>-1702932383</td>\n",
       "      <td>LM_powerLimit</td>\n",
       "      <td>209.536231</td>\n",
       "      <td>2022-03-19</td>\n",
       "      <td>113</td>\n",
       "    </tr>\n",
       "    <tr>\n",
       "      <th>624</th>\n",
       "      <td>1647662027279</td>\n",
       "      <td>-152918872</td>\n",
       "      <td>365951380</td>\n",
       "      <td>420204713</td>\n",
       "      <td>LM_powerLimit</td>\n",
       "      <td>285.552574</td>\n",
       "      <td>2022-03-19</td>\n",
       "      <td>169</td>\n",
       "    </tr>\n",
       "    <tr>\n",
       "      <th>625</th>\n",
       "      <td>1647662165327</td>\n",
       "      <td>-152918872</td>\n",
       "      <td>365951380</td>\n",
       "      <td>420204713</td>\n",
       "      <td>LM_powerLimit</td>\n",
       "      <td>263.669798</td>\n",
       "      <td>2022-03-19</td>\n",
       "      <td>170</td>\n",
       "    </tr>\n",
       "    <tr>\n",
       "      <th>626</th>\n",
       "      <td>1647724513492</td>\n",
       "      <td>-1844894889</td>\n",
       "      <td>1477164192</td>\n",
       "      <td>-1702932383</td>\n",
       "      <td>LM_powerLimit</td>\n",
       "      <td>303.237312</td>\n",
       "      <td>2022-03-19</td>\n",
       "      <td>107</td>\n",
       "    </tr>\n",
       "  </tbody>\n",
       "</table>\n",
       "<p>627 rows × 8 columns</p>\n",
       "</div>"
      ],
      "text/plain": [
       "         timestamp        SITE       ASSET   COMPONENT    signal_name  \\\n",
       "0    1647112004196 -2073653851 -2126066089   -46972795  LM_powerLimit   \n",
       "1    1647112088207 -2073653851 -2126066089   -46972795  LM_powerLimit   \n",
       "2    1647112187186 -2073653851 -2126066089   -46972795  LM_powerLimit   \n",
       "3    1647112306182 -2073653851 -2126066089   -46972795  LM_powerLimit   \n",
       "4    1647178396429  -207607826 -1470107556  -837209140  LM_powerLimit   \n",
       "..             ...         ...         ...         ...            ...   \n",
       "622  1647724971479 -1844894889  1477164192 -1702932383  LM_powerLimit   \n",
       "623  1647725088470 -1844894889  1477164192 -1702932383  LM_powerLimit   \n",
       "624  1647662027279  -152918872   365951380   420204713  LM_powerLimit   \n",
       "625  1647662165327  -152918872   365951380   420204713  LM_powerLimit   \n",
       "626  1647724513492 -1844894889  1477164192 -1702932383  LM_powerLimit   \n",
       "\n",
       "          VALUE event_date  alert_index  \n",
       "0    298.749587 2022-03-12            6  \n",
       "1    288.530682 2022-03-12            7  \n",
       "2    267.344244 2022-03-12            8  \n",
       "3    242.840057 2022-03-12            9  \n",
       "4    105.268708 2022-03-13          178  \n",
       "..          ...        ...          ...  \n",
       "622  239.696659 2022-03-19          112  \n",
       "623  209.536231 2022-03-19          113  \n",
       "624  285.552574 2022-03-19          169  \n",
       "625  263.669798 2022-03-19          170  \n",
       "626  303.237312 2022-03-19          107  \n",
       "\n",
       "[627 rows x 8 columns]"
      ]
     },
     "execution_count": 75,
     "metadata": {},
     "output_type": "execute_result"
    }
   ],
   "source": [
    "PowerAlerts"
   ]
  },
  {
   "cell_type": "code",
   "execution_count": 76,
   "id": "6310daca",
   "metadata": {},
   "outputs": [],
   "source": [
    "MeanAlertPower = PowerAlerts['VALUE'].mean()"
   ]
  },
  {
   "cell_type": "code",
   "execution_count": 77,
   "id": "cbc6a656",
   "metadata": {
    "scrolled": true
   },
   "outputs": [
    {
     "name": "stdout",
     "output_type": "stream",
     "text": [
      "The mean value of Power when an Alert fires is : 133.25195093840802\n"
     ]
    }
   ],
   "source": [
    "print(f\"The mean value of Power when an Alert fires is : {MeanAlertPower}\")"
   ]
  },
  {
   "cell_type": "markdown",
   "id": "c2330ca6",
   "metadata": {},
   "source": [
    "--------------------------------------------------------------------------------------------------------"
   ]
  },
  {
   "cell_type": "code",
   "execution_count": 78,
   "id": "6f1df554",
   "metadata": {
    "scrolled": true
   },
   "outputs": [
    {
     "data": {
      "text/html": [
       "<div>\n",
       "<style scoped>\n",
       "    .dataframe tbody tr th:only-of-type {\n",
       "        vertical-align: middle;\n",
       "    }\n",
       "\n",
       "    .dataframe tbody tr th {\n",
       "        vertical-align: top;\n",
       "    }\n",
       "\n",
       "    .dataframe thead th {\n",
       "        text-align: right;\n",
       "    }\n",
       "</style>\n",
       "<table border=\"1\" class=\"dataframe\">\n",
       "  <thead>\n",
       "    <tr style=\"text-align: right;\">\n",
       "      <th></th>\n",
       "      <th>timestamp</th>\n",
       "      <th>SITE</th>\n",
       "      <th>ASSET</th>\n",
       "      <th>COMPONENT</th>\n",
       "      <th>alert_name</th>\n",
       "      <th>event_date</th>\n",
       "    </tr>\n",
       "  </thead>\n",
       "  <tbody>\n",
       "    <tr>\n",
       "      <th>178</th>\n",
       "      <td>1647178401994</td>\n",
       "      <td>1524600080</td>\n",
       "      <td>-848050549</td>\n",
       "      <td>1396988257</td>\n",
       "      <td>LM_a141_cableTempImbalance</td>\n",
       "      <td>2022-03-13</td>\n",
       "    </tr>\n",
       "    <tr>\n",
       "      <th>182</th>\n",
       "      <td>1647179349359</td>\n",
       "      <td>1524600080</td>\n",
       "      <td>-848050549</td>\n",
       "      <td>1396988257</td>\n",
       "      <td>LM_a141_cableTempImbalance</td>\n",
       "      <td>2022-03-13</td>\n",
       "    </tr>\n",
       "    <tr>\n",
       "      <th>183</th>\n",
       "      <td>1647183761902</td>\n",
       "      <td>1524600080</td>\n",
       "      <td>-848050549</td>\n",
       "      <td>1396988257</td>\n",
       "      <td>LM_a141_cableTempImbalance</td>\n",
       "      <td>2022-03-13</td>\n",
       "    </tr>\n",
       "    <tr>\n",
       "      <th>184</th>\n",
       "      <td>1647207629310</td>\n",
       "      <td>1524600080</td>\n",
       "      <td>-848050549</td>\n",
       "      <td>1396988257</td>\n",
       "      <td>LM_a141_cableTempImbalance</td>\n",
       "      <td>2022-03-13</td>\n",
       "    </tr>\n",
       "    <tr>\n",
       "      <th>185</th>\n",
       "      <td>1647207729306</td>\n",
       "      <td>1524600080</td>\n",
       "      <td>-848050549</td>\n",
       "      <td>1396988257</td>\n",
       "      <td>LM_a141_cableTempImbalance</td>\n",
       "      <td>2022-03-13</td>\n",
       "    </tr>\n",
       "    <tr>\n",
       "      <th>...</th>\n",
       "      <td>...</td>\n",
       "      <td>...</td>\n",
       "      <td>...</td>\n",
       "      <td>...</td>\n",
       "      <td>...</td>\n",
       "      <td>...</td>\n",
       "    </tr>\n",
       "    <tr>\n",
       "      <th>339</th>\n",
       "      <td>1647260636791</td>\n",
       "      <td>1524600080</td>\n",
       "      <td>-848050549</td>\n",
       "      <td>1396988257</td>\n",
       "      <td>LM_a141_cableTempImbalance</td>\n",
       "      <td>2022-03-14</td>\n",
       "    </tr>\n",
       "    <tr>\n",
       "      <th>338</th>\n",
       "      <td>1647260632891</td>\n",
       "      <td>1524600080</td>\n",
       "      <td>-848050549</td>\n",
       "      <td>1396988257</td>\n",
       "      <td>LM_a141_cableTempImbalance</td>\n",
       "      <td>2022-03-14</td>\n",
       "    </tr>\n",
       "    <tr>\n",
       "      <th>353</th>\n",
       "      <td>1647261103672</td>\n",
       "      <td>1524600080</td>\n",
       "      <td>-848050549</td>\n",
       "      <td>1396988257</td>\n",
       "      <td>LM_a141_cableTempImbalance</td>\n",
       "      <td>2022-03-14</td>\n",
       "    </tr>\n",
       "    <tr>\n",
       "      <th>337</th>\n",
       "      <td>1647257144223</td>\n",
       "      <td>1524600080</td>\n",
       "      <td>-848050549</td>\n",
       "      <td>1396988257</td>\n",
       "      <td>LM_a141_cableTempImbalance</td>\n",
       "      <td>2022-03-14</td>\n",
       "    </tr>\n",
       "    <tr>\n",
       "      <th>336</th>\n",
       "      <td>1647257078926</td>\n",
       "      <td>1524600080</td>\n",
       "      <td>-848050549</td>\n",
       "      <td>1396988257</td>\n",
       "      <td>LM_a141_cableTempImbalance</td>\n",
       "      <td>2022-03-14</td>\n",
       "    </tr>\n",
       "  </tbody>\n",
       "</table>\n",
       "<p>659 rows × 6 columns</p>\n",
       "</div>"
      ],
      "text/plain": [
       "         timestamp        SITE      ASSET   COMPONENT  \\\n",
       "178  1647178401994  1524600080 -848050549  1396988257   \n",
       "182  1647179349359  1524600080 -848050549  1396988257   \n",
       "183  1647183761902  1524600080 -848050549  1396988257   \n",
       "184  1647207629310  1524600080 -848050549  1396988257   \n",
       "185  1647207729306  1524600080 -848050549  1396988257   \n",
       "..             ...         ...        ...         ...   \n",
       "339  1647260636791  1524600080 -848050549  1396988257   \n",
       "338  1647260632891  1524600080 -848050549  1396988257   \n",
       "353  1647261103672  1524600080 -848050549  1396988257   \n",
       "337  1647257144223  1524600080 -848050549  1396988257   \n",
       "336  1647257078926  1524600080 -848050549  1396988257   \n",
       "\n",
       "                     alert_name event_date  \n",
       "178  LM_a141_cableTempImbalance 2022-03-13  \n",
       "182  LM_a141_cableTempImbalance 2022-03-13  \n",
       "183  LM_a141_cableTempImbalance 2022-03-13  \n",
       "184  LM_a141_cableTempImbalance 2022-03-13  \n",
       "185  LM_a141_cableTempImbalance 2022-03-13  \n",
       "..                          ...        ...  \n",
       "339  LM_a141_cableTempImbalance 2022-03-14  \n",
       "338  LM_a141_cableTempImbalance 2022-03-14  \n",
       "353  LM_a141_cableTempImbalance 2022-03-14  \n",
       "337  LM_a141_cableTempImbalance 2022-03-14  \n",
       "336  LM_a141_cableTempImbalance 2022-03-14  \n",
       "\n",
       "[659 rows x 6 columns]"
      ]
     },
     "execution_count": 78,
     "metadata": {},
     "output_type": "execute_result"
    }
   ],
   "source": [
    "Analyst_Alerts[Analyst_Alerts['COMPONENT']==1396988257]"
   ]
  },
  {
   "cell_type": "code",
   "execution_count": 79,
   "id": "e1d9bc8c",
   "metadata": {},
   "outputs": [],
   "source": [
    "concat_test = pd.DataFrame()\n",
    "for key in dataframes_14:\n",
    "    if \"Temp\" in key:\n",
    "        concat_test = pd.concat([concat_test, dataframes_14[key]])"
   ]
  },
  {
   "cell_type": "code",
   "execution_count": 80,
   "id": "8c57afb5",
   "metadata": {},
   "outputs": [
    {
     "data": {
      "text/html": [
       "<div>\n",
       "<style scoped>\n",
       "    .dataframe tbody tr th:only-of-type {\n",
       "        vertical-align: middle;\n",
       "    }\n",
       "\n",
       "    .dataframe tbody tr th {\n",
       "        vertical-align: top;\n",
       "    }\n",
       "\n",
       "    .dataframe thead th {\n",
       "        text-align: right;\n",
       "    }\n",
       "</style>\n",
       "<table border=\"1\" class=\"dataframe\">\n",
       "  <thead>\n",
       "    <tr style=\"text-align: right;\">\n",
       "      <th></th>\n",
       "      <th>timestamp</th>\n",
       "      <th>SITE</th>\n",
       "      <th>ASSET</th>\n",
       "      <th>COMPONENT</th>\n",
       "      <th>signal_name</th>\n",
       "      <th>VALUE</th>\n",
       "      <th>event_date</th>\n",
       "    </tr>\n",
       "  </thead>\n",
       "  <tbody>\n",
       "    <tr>\n",
       "      <th>62700</th>\n",
       "      <td>1647247937125</td>\n",
       "      <td>1524600080</td>\n",
       "      <td>-848050549</td>\n",
       "      <td>1396988257</td>\n",
       "      <td>LM_pcbaTempDegC</td>\n",
       "      <td>36.743225</td>\n",
       "      <td>2022-03-14</td>\n",
       "    </tr>\n",
       "    <tr>\n",
       "      <th>62701</th>\n",
       "      <td>1647248233110</td>\n",
       "      <td>1524600080</td>\n",
       "      <td>-848050549</td>\n",
       "      <td>1396988257</td>\n",
       "      <td>LM_pcbaTempDegC</td>\n",
       "      <td>36.619531</td>\n",
       "      <td>2022-03-14</td>\n",
       "    </tr>\n",
       "    <tr>\n",
       "      <th>62702</th>\n",
       "      <td>1647248244120</td>\n",
       "      <td>1524600080</td>\n",
       "      <td>-848050549</td>\n",
       "      <td>1396988257</td>\n",
       "      <td>LM_pcbaTempDegC</td>\n",
       "      <td>37.395598</td>\n",
       "      <td>2022-03-14</td>\n",
       "    </tr>\n",
       "    <tr>\n",
       "      <th>62703</th>\n",
       "      <td>1647248255151</td>\n",
       "      <td>1524600080</td>\n",
       "      <td>-848050549</td>\n",
       "      <td>1396988257</td>\n",
       "      <td>LM_pcbaTempDegC</td>\n",
       "      <td>37.348207</td>\n",
       "      <td>2022-03-14</td>\n",
       "    </tr>\n",
       "    <tr>\n",
       "      <th>62704</th>\n",
       "      <td>1647248266109</td>\n",
       "      <td>1524600080</td>\n",
       "      <td>-848050549</td>\n",
       "      <td>1396988257</td>\n",
       "      <td>LM_pcbaTempDegC</td>\n",
       "      <td>37.311661</td>\n",
       "      <td>2022-03-14</td>\n",
       "    </tr>\n",
       "    <tr>\n",
       "      <th>...</th>\n",
       "      <td>...</td>\n",
       "      <td>...</td>\n",
       "      <td>...</td>\n",
       "      <td>...</td>\n",
       "      <td>...</td>\n",
       "      <td>...</td>\n",
       "      <td>...</td>\n",
       "    </tr>\n",
       "    <tr>\n",
       "      <th>65302</th>\n",
       "      <td>1647270289247</td>\n",
       "      <td>1524600080</td>\n",
       "      <td>-848050549</td>\n",
       "      <td>1396988257</td>\n",
       "      <td>LM_handleNegCoreTempDegC</td>\n",
       "      <td>-183.543050</td>\n",
       "      <td>2022-03-14</td>\n",
       "    </tr>\n",
       "    <tr>\n",
       "      <th>65503</th>\n",
       "      <td>1647272095164</td>\n",
       "      <td>1524600080</td>\n",
       "      <td>-848050549</td>\n",
       "      <td>1396988257</td>\n",
       "      <td>LM_handleNegCoreTempDegC</td>\n",
       "      <td>45.400621</td>\n",
       "      <td>2022-03-14</td>\n",
       "    </tr>\n",
       "    <tr>\n",
       "      <th>65515</th>\n",
       "      <td>1647272219154</td>\n",
       "      <td>1524600080</td>\n",
       "      <td>-848050549</td>\n",
       "      <td>1396988257</td>\n",
       "      <td>LM_handleNegCoreTempDegC</td>\n",
       "      <td>27.736654</td>\n",
       "      <td>2022-03-14</td>\n",
       "    </tr>\n",
       "    <tr>\n",
       "      <th>65518</th>\n",
       "      <td>1647272229163</td>\n",
       "      <td>1524600080</td>\n",
       "      <td>-848050549</td>\n",
       "      <td>1396988257</td>\n",
       "      <td>LM_handleNegCoreTempDegC</td>\n",
       "      <td>38.251060</td>\n",
       "      <td>2022-03-14</td>\n",
       "    </tr>\n",
       "    <tr>\n",
       "      <th>65519</th>\n",
       "      <td>1647272239156</td>\n",
       "      <td>1524600080</td>\n",
       "      <td>-848050549</td>\n",
       "      <td>1396988257</td>\n",
       "      <td>LM_handleNegCoreTempDegC</td>\n",
       "      <td>42.429418</td>\n",
       "      <td>2022-03-14</td>\n",
       "    </tr>\n",
       "  </tbody>\n",
       "</table>\n",
       "<p>438 rows × 7 columns</p>\n",
       "</div>"
      ],
      "text/plain": [
       "           timestamp        SITE      ASSET   COMPONENT  \\\n",
       "62700  1647247937125  1524600080 -848050549  1396988257   \n",
       "62701  1647248233110  1524600080 -848050549  1396988257   \n",
       "62702  1647248244120  1524600080 -848050549  1396988257   \n",
       "62703  1647248255151  1524600080 -848050549  1396988257   \n",
       "62704  1647248266109  1524600080 -848050549  1396988257   \n",
       "...              ...         ...        ...         ...   \n",
       "65302  1647270289247  1524600080 -848050549  1396988257   \n",
       "65503  1647272095164  1524600080 -848050549  1396988257   \n",
       "65515  1647272219154  1524600080 -848050549  1396988257   \n",
       "65518  1647272229163  1524600080 -848050549  1396988257   \n",
       "65519  1647272239156  1524600080 -848050549  1396988257   \n",
       "\n",
       "                    signal_name       VALUE event_date  \n",
       "62700           LM_pcbaTempDegC   36.743225 2022-03-14  \n",
       "62701           LM_pcbaTempDegC   36.619531 2022-03-14  \n",
       "62702           LM_pcbaTempDegC   37.395598 2022-03-14  \n",
       "62703           LM_pcbaTempDegC   37.348207 2022-03-14  \n",
       "62704           LM_pcbaTempDegC   37.311661 2022-03-14  \n",
       "...                         ...         ...        ...  \n",
       "65302  LM_handleNegCoreTempDegC -183.543050 2022-03-14  \n",
       "65503  LM_handleNegCoreTempDegC   45.400621 2022-03-14  \n",
       "65515  LM_handleNegCoreTempDegC   27.736654 2022-03-14  \n",
       "65518  LM_handleNegCoreTempDegC   38.251060 2022-03-14  \n",
       "65519  LM_handleNegCoreTempDegC   42.429418 2022-03-14  \n",
       "\n",
       "[438 rows x 7 columns]"
      ]
     },
     "execution_count": 80,
     "metadata": {},
     "output_type": "execute_result"
    }
   ],
   "source": [
    "concat_test[concat_test['COMPONENT']==1396988257]"
   ]
  },
  {
   "cell_type": "markdown",
   "id": "91a8c3f8",
   "metadata": {},
   "source": [
    "# Question 4"
   ]
  },
  {
   "cell_type": "markdown",
   "id": "c4b62216",
   "metadata": {},
   "source": [
    "#### Workbook 1\n",
    "\n",
    "\n",
    "1. From our visualisation we observe that over 50% of the records where the average temperature was recorded above 90 degrees for atleast 30 seconds came from 6 components - 399812473, 1348730178, -1473041981, 1996083301, 851777939, and 1036677714.\n",
    "\n",
    "\n",
    "2. Roughly a quarter of all records flagged occurred on the 19th of March, 2022.\n",
    "\n",
    "\n",
    "3. 4 Sites recorded over 2/3rds (68%) of the flagged records, significantly more than their proportional share of total records of 25%. Sites -1492083459, -152918872, -1576961961, 1226026637\n",
    "\n",
    "\n",
    "4. The Maximum Powers recorded for Components corresponding where the Avg Temperature was above 90 degrees range from 204 to 360. This is in comparison to a median power of 91 recorded for all Components.\n",
    "\n",
    "-----------------------------------------------------\n",
    "#### Workbook 2\n",
    "\n",
    "\n",
    "1. Over 75% of Alerts are recorded on the 2022-03-14. This is largely due to the disproportionate amount of Alerts cause by Component 1396988257.\n",
    "\n",
    "\n",
    "2. Just two components account for over 90% of the Alerts fired over the week. Component 1396988257 and Component -837209140. \n",
    "\n",
    "\n",
    "3. Component 1396988257 accounts for almost 80% of the Alerts Fired over the entire week. Corresponding to the component, the Site 1524600080 and Asset -848050549 also account for similar perrcentages.\n",
    "\n",
    "\n",
    "4. Component -837209140 accounts for almost 10% of the Alerts Fired over the entire week. Corresponding to the component, the Site -207607826 and Asset -1470107556 also account for similar perrcentages.\n",
    "\n",
    "\n",
    "5. The Average Temperatue per Component when an Alert Fires ranges from 46 degrees to 100 degrees. Similarly the Average Power per Component ranges from 95 to 274.\n",
    "\n",
    "\n",
    "6. However these figures are not entirely accurate or representative. The majority of Alerts were caused by Component 1396988257, however the number of records with the Component were proportionally much lower in the records identified as analogous to Alerts.\n",
    "\n",
    "\n",
    "7. On further investigation we observed that the reason we were unable to identify analogous records for Component 1396988257 is that there were fewer Temperature logs on 2022-03-14 for the component compared to the Alerts. The temperatures for the component would fall down till -150 degrees and the records were not flagged."
   ]
  }
 ],
 "metadata": {
  "kernelspec": {
   "display_name": "Python 3 (ipykernel)",
   "language": "python",
   "name": "python3"
  },
  "language_info": {
   "codemirror_mode": {
    "name": "ipython",
    "version": 3
   },
   "file_extension": ".py",
   "mimetype": "text/x-python",
   "name": "python",
   "nbconvert_exporter": "python",
   "pygments_lexer": "ipython3",
   "version": "3.9.7"
  }
 },
 "nbformat": 4,
 "nbformat_minor": 5
}
